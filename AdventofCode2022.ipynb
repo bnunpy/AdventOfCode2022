{
  "cells": [
    {
      "cell_type": "markdown",
      "metadata": {
        "id": "view-in-github",
        "colab_type": "text"
      },
      "source": [
        "<a href=\"https://colab.research.google.com/github/bnunpy/AdventOfCode2022/blob/main/AdventofCode2022.ipynb\" target=\"_parent\"><img src=\"https://colab.research.google.com/assets/colab-badge.svg\" alt=\"Open In Colab\"/></a>"
      ]
    },
    {
      "cell_type": "markdown",
      "metadata": {
        "id": "H1g7MfSboKsh"
      },
      "source": [
        "# **DAY 1: Calorie Counting**"
      ]
    },
    {
      "cell_type": "markdown",
      "metadata": {
        "id": "kHU31roBmz1h"
      },
      "source": [
        "PART 1"
      ]
    },
    {
      "cell_type": "code",
      "execution_count": null,
      "metadata": {
        "colab": {
          "base_uri": "https://localhost:8080/"
        },
        "id": "3JkKZVlcigtk",
        "outputId": "ae024c40-4c3c-4d9a-e280-c6417c49de23"
      },
      "outputs": [
        {
          "data": {
            "text/plain": [
              "65912"
            ]
          },
          "execution_count": 34,
          "metadata": {},
          "output_type": "execute_result"
        }
      ],
      "source": [
        "f = open(\"input.txt\", \"r\", newline='\\n')\n",
        "\n",
        "most_calories = 0\n",
        "current_calories = 0\n",
        "for snack in f:\n",
        "    if snack != \"\\n\":\n",
        "        current_calories += int(snack)\n",
        "    if snack == \"\\n\":\n",
        "        if int(current_calories) > int(most_calories):\n",
        "            most_calories = current_calories\n",
        "            current_calories = 0\n",
        "\n",
        "f.close()\n",
        "\n",
        "\n",
        "most_calories"
      ]
    },
    {
      "cell_type": "markdown",
      "metadata": {
        "id": "KKuiRHGWm4Zs"
      },
      "source": [
        "PART 2"
      ]
    },
    {
      "cell_type": "code",
      "execution_count": null,
      "metadata": {
        "colab": {
          "base_uri": "https://localhost:8080/"
        },
        "id": "WhF01GPHjnew",
        "outputId": "2655c41c-ed33-4728-88b8-f60f44f95ab3"
      },
      "outputs": [
        {
          "data": {
            "text/plain": [
              "195625"
            ]
          },
          "execution_count": 39,
          "metadata": {},
          "output_type": "execute_result"
        }
      ],
      "source": [
        "f = open(\"input.txt\", \"r\", newline='\\n')\n",
        "\n",
        "calories_list = []\n",
        "current_calories = 0\n",
        "for snack in f:\n",
        "    if snack != \"\\n\":\n",
        "        current_calories += int(snack)\n",
        "    if snack == \"\\n\":\n",
        "        calories_list.append(current_calories)\n",
        "        current_calories = 0\n",
        "\n",
        "f.close()\n",
        "\n",
        "\n",
        "calories_list.sort(reverse=True)\n",
        "sum(calories_list[0:3])"
      ]
    },
    {
      "cell_type": "markdown",
      "metadata": {
        "id": "XI53gLdHoRwH"
      },
      "source": [
        "#**DAY 2: Rock Paper Scissors**"
      ]
    },
    {
      "cell_type": "markdown",
      "metadata": {
        "id": "Rv9kmsgKtfYm"
      },
      "source": [
        "PART 1"
      ]
    },
    {
      "cell_type": "code",
      "execution_count": null,
      "metadata": {
        "colab": {
          "base_uri": "https://localhost:8080/"
        },
        "id": "tpWTYFNdnxoR",
        "outputId": "23c22fc4-032c-4958-9c5a-64cea51421a5"
      },
      "outputs": [
        {
          "data": {
            "text/plain": [
              "8890"
            ]
          },
          "execution_count": 48,
          "metadata": {},
          "output_type": "execute_result"
        }
      ],
      "source": [
        "shape_mapping = {\"A\": \"X\", \"B\": \"Y\", \"C\": \"Z\"}\n",
        "strategy_guide = {\"A\": \"Y\", \"B\": \"Z\", \"C\": \"X\"}\n",
        "\n",
        "response_score = {\"X\": 1, \"Y\": 2, \"Z\": 3}\n",
        "outcome_score = {\"lose\": 0, \"draw\": 3, \"win\": 6}\n",
        "\n",
        "\n",
        "\n",
        "f = open(\"input.txt\", \"r\", newline='\\n')\n",
        "\n",
        "score = 0\n",
        "for round in f:\n",
        "    opponent = round[0]\n",
        "    response = round[2]\n",
        "    # print(opponent, response)\n",
        "\n",
        "    score += response_score[response]\n",
        "\n",
        "    if response == strategy_guide[opponent]:\n",
        "        score += outcome_score[\"win\"]\n",
        "        # print(\"win\")\n",
        "    elif response == shape_mapping[opponent]:\n",
        "        score += outcome_score[\"draw\"]\n",
        "        # print(\"draw\")\n",
        "    else:\n",
        "        score += outcome_score[\"lose\"]\n",
        "        # print(\"lose\")\n",
        "\n",
        "\n",
        "f.close()\n",
        "\n",
        "score"
      ]
    },
    {
      "cell_type": "markdown",
      "metadata": {
        "id": "j-TyUMTntgrU"
      },
      "source": [
        "PART 2"
      ]
    },
    {
      "cell_type": "code",
      "execution_count": null,
      "metadata": {
        "colab": {
          "base_uri": "https://localhost:8080/"
        },
        "id": "_jKU_lMppgjK",
        "outputId": "811a365c-98a2-4e4a-f433-c88de49ba898"
      },
      "outputs": [
        {
          "data": {
            "text/plain": [
              "10238"
            ]
          },
          "execution_count": 55,
          "metadata": {},
          "output_type": "execute_result"
        }
      ],
      "source": [
        "\n",
        "\n",
        "outcome_scoring = {\"lose\": 0, \"draw\": 3, \"win\": 6}\n",
        "strategy_guide = {\"X\": \"lose\", \"Y\": \"draw\", \"Z\": \"win\"}\n",
        "\n",
        "win_guide = {\"A\": \"paper\", \"B\": \"scissors\", \"C\": \"rock\"}\n",
        "lose_guide = {\"A\": \"scissors\", \"B\": \"rock\", \"C\": \"paper\"}\n",
        "draw_guide = {\"A\": \"rock\", \"B\": \"paper\", \"C\": \"scissors\"}\n",
        "response_scoring = {\"rock\": 1, \"paper\": 2, \"scissors\": 3}\n",
        "\n",
        "guide_map = {\"win\": win_guide, \"lose\": lose_guide, \"draw\": draw_guide}\n",
        "\n",
        "\n",
        "f = open(\"input.txt\", \"r\", newline='\\n')\n",
        "\n",
        "score = 0\n",
        "for round in f:\n",
        "    opponent = round[0]\n",
        "    response = round[2]\n",
        "    # print(opponent, response)\n",
        "\n",
        "\n",
        "\n",
        "    outcome_score = outcome_scoring[strategy_guide[response]]\n",
        "    score += outcome_score\n",
        "    # print(outcome_score)\n",
        "\n",
        "    current_guide = guide_map[strategy_guide[response]]\n",
        "    response = current_guide[opponent]\n",
        "    response_score = response_scoring[response]\n",
        "    score += response_score\n",
        "    # print(response_score)\n",
        "\n",
        "\n",
        "\n",
        "\n",
        "f.close()\n",
        "\n",
        "score"
      ]
    },
    {
      "cell_type": "markdown",
      "metadata": {
        "id": "ZX-hI94lyqme"
      },
      "source": [
        "#**DAY 3: Rucksack Reorganization**"
      ]
    },
    {
      "cell_type": "markdown",
      "metadata": {
        "id": "h3g9qY5AywBp"
      },
      "source": [
        "PART 1"
      ]
    },
    {
      "cell_type": "code",
      "execution_count": null,
      "metadata": {
        "colab": {
          "base_uri": "https://localhost:8080/"
        },
        "id": "mmYRqfV1uVoW",
        "outputId": "21dc87c8-3475-4a31-e4f5-2c053a6dc7f3"
      },
      "outputs": [
        {
          "data": {
            "text/plain": [
              "7785"
            ]
          },
          "execution_count": 113,
          "metadata": {},
          "output_type": "execute_result"
        }
      ],
      "source": [
        "# item priorities\n",
        "# A-Z 65-90, a-z 97-122\n",
        "\n",
        "with open('input.txt') as f:\n",
        "    lines = f.readlines()\n",
        "f.close()\n",
        "\n",
        "total_priority = 0\n",
        "for i_rucksack in range(len(lines)):\n",
        "    rucksack = lines[i_rucksack]\n",
        "    compartment_size = len(rucksack)//2\n",
        "    compartment1 = rucksack[:compartment_size]\n",
        "    compartment2 = rucksack[compartment_size:]\n",
        "    # print(rucksack)\n",
        "    # print(compartment1)\n",
        "    # print(compartment2)\n",
        "\n",
        "    item_in_both_compartments = ''\n",
        "\n",
        "    i = 0\n",
        "    j = 0\n",
        "    while not item_in_both_compartments:\n",
        "        # iterate through compartment 1\n",
        "        item1 = compartment1[i]\n",
        "\n",
        "        # iterate through compartment 2\n",
        "        item2 = compartment2[j]\n",
        "\n",
        "        if item1 == item2:\n",
        "            item_in_both_compartments = item1\n",
        "\n",
        "        j += 1\n",
        "        if j == compartment_size:\n",
        "            j = 0\n",
        "            i += 1\n",
        "\n",
        "    # count item priority\n",
        "    # print(item_in_both_compartments);\n",
        "    if item_in_both_compartments.isupper():\n",
        "        priority = ord(item_in_both_compartments)-38\n",
        "    else:\n",
        "        priority = ord(item_in_both_compartments)-96\n",
        "    total_priority += priority\n",
        "\n",
        "    total_priority"
      ]
    },
    {
      "cell_type": "markdown",
      "metadata": {
        "id": "IUZsCvDb_S71"
      },
      "source": [
        "PART 2"
      ]
    },
    {
      "cell_type": "code",
      "execution_count": null,
      "metadata": {
        "colab": {
          "base_uri": "https://localhost:8080/"
        },
        "id": "xFG_XvcA8abL",
        "outputId": "08e21f76-b86f-4f60-85c7-974fa49e8978"
      },
      "outputs": [
        {
          "data": {
            "text/plain": [
              "2633"
            ]
          },
          "execution_count": 117,
          "metadata": {},
          "output_type": "execute_result"
        }
      ],
      "source": [
        "with open('input.txt') as f:\n",
        "    lines = f.readlines()\n",
        "f.close()\n",
        "\n",
        "total_priority = 0\n",
        "for i_rucksack in range(0,len(lines),3):\n",
        "\n",
        "    rucksacks = lines[i_rucksack:i_rucksack+3]\n",
        "\n",
        "    item_in_common = ''\n",
        "\n",
        "    i = 0\n",
        "    j = 0\n",
        "    k = 0\n",
        "    while not item_in_common:\n",
        "        # iterate through rucksack 1\n",
        "        item1 = rucksacks[0][i]\n",
        "\n",
        "        # iterate through rucksack 2\n",
        "        item2 = rucksacks[1][j]\n",
        "\n",
        "        # iterate through rucksack 3\n",
        "        item3 = rucksacks[2][k]\n",
        "\n",
        "        if item1 == item2 == item3:\n",
        "            item_in_common = item1\n",
        "\n",
        "        k += 1\n",
        "        if k == len(rucksacks[2]):\n",
        "            k = 0\n",
        "            j += 1\n",
        "\n",
        "        if j == len(rucksacks[1]):\n",
        "            j = 0\n",
        "            i += 1\n",
        "\n",
        "    if item_in_common.isupper():\n",
        "        priority = ord(item_in_common)-38\n",
        "    else:\n",
        "        priority = ord(item_in_common)-96\n",
        "    total_priority += priority\n",
        "\n",
        "total_priority"
      ]
    },
    {
      "cell_type": "markdown",
      "metadata": {
        "id": "wcghlWUiCqNs"
      },
      "source": []
    },
    {
      "cell_type": "markdown",
      "metadata": {
        "id": "c4qN90KqCr3t"
      },
      "source": [
        "#**DAY 4: Camp Cleanup**"
      ]
    },
    {
      "cell_type": "markdown",
      "metadata": {
        "id": "mFuYtRnjCxtx"
      },
      "source": [
        "PART 1"
      ]
    },
    {
      "cell_type": "code",
      "execution_count": null,
      "metadata": {
        "colab": {
          "base_uri": "https://localhost:8080/"
        },
        "id": "xd8PgeYRCvcj",
        "outputId": "9f40633c-fe85-4bd7-9e0a-616860835447"
      },
      "outputs": [
        {
          "data": {
            "text/plain": [
              "542"
            ]
          },
          "execution_count": 125,
          "metadata": {},
          "output_type": "execute_result"
        }
      ],
      "source": [
        "with open('input.txt') as f:\n",
        "    lines = f.readlines()\n",
        "f.close()\n",
        "\n",
        "overlap_count = 0\n",
        "for line in lines:\n",
        "    pair = line.split(',')\n",
        "    elf1 = pair[0].split('-')\n",
        "    elf2 = pair[1].split('-')\n",
        "\n",
        "    elf1 = [int(x) for x in elf1]\n",
        "    elf2 = [int(x) for x in elf2]\n",
        "\n",
        "    # if elf1 fits in elf2\n",
        "    if (elf1[0] >= elf2[0]) and (elf1[1] <= elf2[1]):\n",
        "        overlap_count += 1\n",
        "    # if elf2 fits in elf1\n",
        "    elif (elf1[0] <= elf2[0]) and (elf1[1] >= elf2[1]):\n",
        "        overlap_count += 1\n",
        "\n",
        "overlap_count"
      ]
    },
    {
      "cell_type": "markdown",
      "metadata": {
        "id": "LmugxKlPFjKH"
      },
      "source": [
        "PART 2"
      ]
    },
    {
      "cell_type": "code",
      "execution_count": null,
      "metadata": {
        "colab": {
          "base_uri": "https://localhost:8080/"
        },
        "id": "y9k01lt5DzRb",
        "outputId": "935454f5-58cc-4faf-d96b-7dc20b171b82"
      },
      "outputs": [
        {
          "data": {
            "text/plain": [
              "900"
            ]
          },
          "execution_count": 135,
          "metadata": {},
          "output_type": "execute_result"
        }
      ],
      "source": [
        "with open('input.txt') as f:\n",
        "    lines = f.readlines()\n",
        "f.close()\n",
        "\n",
        "overlap_count = 0\n",
        "for line in lines:\n",
        "    pair = line.split(',')\n",
        "    elf1 = pair[0].split('-')\n",
        "    elf2 = pair[1].split('-')\n",
        "\n",
        "    elf1 = [int(x) for x in elf1]\n",
        "    elf2 = [int(x) for x in elf2]\n",
        "\n",
        "    # if elf1 overlaps with elf2\n",
        "    if (elf1[0] in range(elf2[0], elf2[1]+1)) or (elf1[1] in range(elf2[0], elf2[1]+1)):\n",
        "        overlap_count += 1\n",
        "    # if elf2 overlaps with elf1\n",
        "    elif (elf2[0] in range(elf1[0], elf1[1]+1)) or (elf2[1] in range(elf1[0], elf1[1]+1)):\n",
        "        overlap_count += 1\n",
        "\n",
        "overlap_count"
      ]
    },
    {
      "cell_type": "markdown",
      "metadata": {
        "id": "teuF81kVck-y"
      },
      "source": [
        "#**DAY 5: Supply Stacks**"
      ]
    },
    {
      "cell_type": "markdown",
      "metadata": {
        "id": "6_UhN49acpht"
      },
      "source": [
        "PART 1"
      ]
    },
    {
      "cell_type": "code",
      "execution_count": null,
      "metadata": {
        "colab": {
          "base_uri": "https://localhost:8080/"
        },
        "id": "ACP_oeIjcosR",
        "outputId": "7525ae19-69e4-44b3-e8b7-3b41877d3efe"
      },
      "outputs": [
        {
          "data": {
            "text/plain": [
              "['[G]', '[F]', '[T]', '[N]', '[R]', '[B]', '[Z]', '[P]', '[F]']"
            ]
          },
          "execution_count": 29,
          "metadata": {},
          "output_type": "execute_result"
        }
      ],
      "source": [
        "import re\n",
        "\n",
        "with open('input.txt') as f:\n",
        "    lines = f.readlines()\n",
        "f.close()\n",
        "\n",
        "initial_arrangement = lines[:8]\n",
        "\n",
        "# convert initial arrangement to list of lists\n",
        "initial_arrangement_lists = []\n",
        "for i in range(len(initial_arrangement)):\n",
        "    line = lines[i].strip('\\n')\n",
        "\n",
        "    bin_n = 0\n",
        "    initial_arrangement_list = []\n",
        "    for j in range(0,len(line),4):\n",
        "        current_item = line[j:j+4]\n",
        "        initial_arrangement_list.append(current_item.strip())\n",
        "        bin_n += 1\n",
        "\n",
        "    initial_arrangement_lists.append(initial_arrangement_list)\n",
        "\n",
        "# transpose lists\n",
        "initial_arrangement_lists_T = []\n",
        "for row in zip(*initial_arrangement_lists):\n",
        "    initial_arrangement_lists_T.append(row)\n",
        "\n",
        "# remove empty elements and reverse\n",
        "for i in range(len(initial_arrangement_lists_T)):\n",
        "    initial_arrangement_lists_T[i] = list(initial_arrangement_lists_T[i])\n",
        "    initial_arrangement_lists_T[i] = [crate for crate in initial_arrangement_lists_T[i] if crate != '']\n",
        "    initial_arrangement_lists_T[i] = initial_arrangement_lists_T[i][::-1]\n",
        "\n",
        "# parse instructions\n",
        "instructions = lines[10:]\n",
        "num_instructions = len(instructions)\n",
        "move_from_to = []\n",
        "\n",
        "pattern = r'\\d+'  # This pattern matches integers\n",
        "for i in range(num_instructions):\n",
        "    move_from_to_col_counter = 0\n",
        "    line = instructions[i]\n",
        "    matches = re.findall(pattern, line)\n",
        "    matches = [int(x) for x in matches] # make ints\n",
        "    matches[1] -= 1 # zero index\n",
        "    matches[2] -= 1 # zero index\n",
        "    move_from_to.append(matches)\n",
        "\n",
        "# perform rearrangement procedure\n",
        "for instruction in move_from_to:\n",
        "    for i in range(instruction[0]):\n",
        "        element_to_move = initial_arrangement_lists_T[instruction[1]][-1]\n",
        "        initial_arrangement_lists_T[instruction[1]].pop(-1)\n",
        "        initial_arrangement_lists_T[instruction[2]].append(element_to_move)\n",
        "\n",
        "# for stack in initial_arrangement_lists_T:\n",
        "top_crates = [x[-1] for x in initial_arrangement_lists_T]\n",
        "top_crates"
      ]
    },
    {
      "cell_type": "markdown",
      "metadata": {
        "id": "kOy022C3w9RX"
      },
      "source": [
        "PART 2"
      ]
    },
    {
      "cell_type": "code",
      "execution_count": null,
      "metadata": {
        "colab": {
          "base_uri": "https://localhost:8080/"
        },
        "id": "1aE0YBIzw-dK",
        "outputId": "cd610b46-d373-402b-b263-bdbe6d7f54b6"
      },
      "outputs": [
        {
          "data": {
            "text/plain": [
              "['[V]', '[R]', '[Q]', '[W]', '[P]', '[D]', '[S]', '[G]', '[P]']"
            ]
          },
          "execution_count": 51,
          "metadata": {},
          "output_type": "execute_result"
        }
      ],
      "source": [
        "import re\n",
        "\n",
        "with open('input.txt') as f:\n",
        "    lines = f.readlines()\n",
        "f.close()\n",
        "\n",
        "initial_arrangement = lines[:8]\n",
        "\n",
        "# convert initial arrangement to list of lists\n",
        "initial_arrangement_lists = []\n",
        "for i in range(len(initial_arrangement)):\n",
        "    line = lines[i].strip('\\n')\n",
        "\n",
        "    bin_n = 0\n",
        "    initial_arrangement_list = []\n",
        "    for j in range(0,len(line),4):\n",
        "        current_item = line[j:j+4]\n",
        "        initial_arrangement_list.append(current_item.strip())\n",
        "        bin_n += 1\n",
        "\n",
        "    initial_arrangement_lists.append(initial_arrangement_list)\n",
        "\n",
        "# transpose lists\n",
        "initial_arrangement_lists_T = []\n",
        "for row in zip(*initial_arrangement_lists):\n",
        "    initial_arrangement_lists_T.append(row)\n",
        "\n",
        "# remove empty elements and reverse\n",
        "for i in range(len(initial_arrangement_lists_T)):\n",
        "    initial_arrangement_lists_T[i] = list(initial_arrangement_lists_T[i])\n",
        "    initial_arrangement_lists_T[i] = [crate for crate in initial_arrangement_lists_T[i] if crate != '']\n",
        "    initial_arrangement_lists_T[i] = initial_arrangement_lists_T[i][::-1]\n",
        "\n",
        "# parse instructions\n",
        "instructions = lines[10:]\n",
        "num_instructions = len(instructions)\n",
        "move_from_to = []\n",
        "\n",
        "pattern = r'\\d+'  # This pattern matches integers\n",
        "for i in range(num_instructions):\n",
        "    move_from_to_col_counter = 0\n",
        "    line = instructions[i]\n",
        "    matches = re.findall(pattern, line)\n",
        "    matches = [int(x) for x in matches] # make ints\n",
        "    matches[1] -= 1 # zero index\n",
        "    matches[2] -= 1 # zero index\n",
        "    move_from_to.append(matches)\n",
        "\n",
        "# perform rearrangement procedure\n",
        "for instruction in move_from_to:\n",
        "    # print(instruction)\n",
        "    elements_to_move = initial_arrangement_lists_T[instruction[1]][-instruction[0]:]\n",
        "    [initial_arrangement_lists_T[instruction[2]].append(x) for x in elements_to_move]\n",
        "    del initial_arrangement_lists_T[instruction[1]][-instruction[0]:]\n",
        "\n",
        "top_crates = [x[-1] for x in initial_arrangement_lists_T]\n",
        "top_crates"
      ]
    },
    {
      "cell_type": "markdown",
      "metadata": {
        "id": "AVPDCUNMrEgn"
      },
      "source": [
        "#**DAY 6: Tuning Trouble**"
      ]
    },
    {
      "cell_type": "markdown",
      "metadata": {
        "id": "V1JoI3xOrKCS"
      },
      "source": [
        "PART 1"
      ]
    },
    {
      "cell_type": "code",
      "execution_count": null,
      "metadata": {
        "colab": {
          "base_uri": "https://localhost:8080/"
        },
        "id": "KGPwacwVrJEm",
        "outputId": "af32fa7f-4372-4ec2-9140-5f54de8ba2b6"
      },
      "outputs": [
        {
          "data": {
            "text/plain": [
              "1757"
            ]
          },
          "execution_count": 63,
          "metadata": {},
          "output_type": "execute_result"
        }
      ],
      "source": [
        "with open('input.txt') as f:\n",
        "    line = f.readline()\n",
        "f.close()\n",
        "\n",
        "buffer_size = 4\n",
        "start = 0\n",
        "end = start + buffer_size\n",
        "is_marker = False\n",
        "while not is_marker:\n",
        "    unique_chars_in_contents = []\n",
        "    contents = line[start:end]\n",
        "    # print(contents)\n",
        "    for ch in contents:\n",
        "        if ch not in unique_chars_in_contents:\n",
        "            unique_chars_in_contents.append(ch)\n",
        "    # print(unique_chars_in_contents)\n",
        "    if len(unique_chars_in_contents) == buffer_size:\n",
        "        is_marker = True\n",
        "\n",
        "    start += 1\n",
        "    end = start + buffer_size\n",
        "\n",
        "end-1"
      ]
    },
    {
      "cell_type": "markdown",
      "metadata": {
        "id": "h18hhB_KyHc9"
      },
      "source": [
        "PART 2"
      ]
    },
    {
      "cell_type": "code",
      "execution_count": null,
      "metadata": {
        "colab": {
          "base_uri": "https://localhost:8080/"
        },
        "id": "8yDqKLjHvsNV",
        "outputId": "4308e949-f133-46cf-fe8d-79e348e1c6a3"
      },
      "outputs": [
        {
          "data": {
            "text/plain": [
              "2950"
            ]
          },
          "execution_count": 65,
          "metadata": {},
          "output_type": "execute_result"
        }
      ],
      "source": [
        "with open('input.txt') as f:\n",
        "    line = f.readline()\n",
        "f.close()\n",
        "\n",
        "buffer_size = 14\n",
        "start = 0\n",
        "end = start + buffer_size\n",
        "is_marker = False\n",
        "while not is_marker:\n",
        "    unique_chars_in_contents = []\n",
        "    contents = line[start:end]\n",
        "    # print(contents)\n",
        "    for ch in contents:\n",
        "        if ch not in unique_chars_in_contents:\n",
        "            unique_chars_in_contents.append(ch)\n",
        "    # print(unique_chars_in_contents)\n",
        "    if len(unique_chars_in_contents) == buffer_size:\n",
        "        is_marker = True\n",
        "\n",
        "    start += 1\n",
        "    end = start + buffer_size\n",
        "\n",
        "end-1"
      ]
    },
    {
      "cell_type": "markdown",
      "metadata": {
        "id": "eP0ghWJUyxvZ"
      },
      "source": [
        "#**DAY 7: No Space Left On Device**"
      ]
    },
    {
      "cell_type": "markdown",
      "metadata": {
        "id": "uISI7OqFy27M"
      },
      "source": [
        "PART 1"
      ]
    },
    {
      "cell_type": "code",
      "execution_count": null,
      "metadata": {
        "id": "SB4ib9T20nzZ"
      },
      "outputs": [],
      "source": [
        "# / outermost dir\n",
        "# $ commands\n",
        "# cd change directory, x in a level, .. out a level, \\ to outermost dir\n",
        "# ls list dir contents, if dir xyz: dir inside dir called xyz\n"
      ]
    },
    {
      "cell_type": "code",
      "execution_count": null,
      "metadata": {
        "id": "OxNB6AoyxORs"
      },
      "outputs": [],
      "source": [
        "with open('input.txt') as f:\n",
        "    lines = f.readlines()\n",
        "f.close()\n",
        "\n",
        "# set up dictionary with key names of dirs\n",
        "directory_dict = {'/': None}\n",
        "\n",
        "counter = 0\n",
        "for line in lines[1:]:\n",
        "    # print(counter)\n",
        "    line = line.split(' ') # str to space delimited list\n",
        "    line[-1] = line[-1][:-1] # remove '\\n'\n",
        "\n",
        "    if line[0] == '$': # check if line is a command\n",
        "        if line[1] == 'cd': # check if command is cd\n",
        "            if line[2] != '..':\n",
        "                current_directory = line[2]\n",
        "                # directory_dict[current_directory] = None\n",
        "\n",
        "        if line[1] == 'ls': # check if command is ls\n",
        "            continue\n",
        "    elif line[0] == 'dir':\n",
        "        directory_dict[current_directory] = line[0]\n",
        "\n",
        "    counter+=1\n",
        "    # print(line)\n",
        "\n",
        "#"
      ]
    },
    {
      "cell_type": "code",
      "execution_count": null,
      "metadata": {
        "colab": {
          "base_uri": "https://localhost:8080/"
        },
        "id": "UZbHNFJc0Udg",
        "outputId": "ffbb704a-7c7a-4013-fcef-6dcd150bd9cb"
      },
      "outputs": [
        {
          "data": {
            "text/plain": [
              "['$ cd /\\n',\n",
              " '$ ls\\n',\n",
              " 'dir dcvzbqf\\n',\n",
              " '23804 gsdpmrq.bsz\\n',\n",
              " '24936 nfngbl.mcn\\n',\n",
              " '178747 plw.frm\\n',\n",
              " 'dir qdtw\\n',\n",
              " 'dir qmfvph\\n',\n",
              " '$ cd dcvzbqf\\n',\n",
              " '$ ls\\n',\n",
              " 'dir gfvl\\n',\n",
              " '$ cd gfvl\\n',\n",
              " '$ ls\\n',\n",
              " '104564 dnbmm.bgc\\n',\n",
              " '$ cd ..\\n',\n",
              " '$ cd ..\\n',\n",
              " '$ cd qdtw\\n',\n",
              " '$ ls\\n',\n",
              " 'dir fsj\\n',\n",
              " 'dir jwfbvmds\\n']"
            ]
          },
          "execution_count": 87,
          "metadata": {},
          "output_type": "execute_result"
        }
      ],
      "source": [
        "lines[:20]"
      ]
    },
    {
      "cell_type": "code",
      "execution_count": null,
      "metadata": {
        "id": "mpyVdQ-n0VCW"
      },
      "outputs": [],
      "source": [
        "directory_dict"
      ]
    },
    {
      "cell_type": "markdown",
      "metadata": {
        "id": "YuAUdiv_BPOy"
      },
      "source": [
        "#**DAY 8: Treetop Tree House**"
      ]
    },
    {
      "cell_type": "markdown",
      "metadata": {
        "id": "6A8DLF0mBZAJ"
      },
      "source": [
        "PART 1"
      ]
    },
    {
      "cell_type": "code",
      "execution_count": null,
      "metadata": {
        "colab": {
          "base_uri": "https://localhost:8080/"
        },
        "id": "MYPGSBN3BXT8",
        "outputId": "f1b310c0-3051-4e98-e86e-1a1b5f5545f1"
      },
      "outputs": [
        {
          "data": {
            "text/plain": [
              "15640"
            ]
          },
          "execution_count": 120,
          "metadata": {},
          "output_type": "execute_result"
        }
      ],
      "source": [
        "import numpy\n",
        "\n",
        "with open('input.txt') as f:\n",
        "    lines = f.readlines()\n",
        "f.close()\n",
        "\n",
        "lines = [x[:-1] for x in lines] # remove '\\n'\n",
        "\n",
        "def check_num_visible(lines) -> int:\n",
        "    num_visible = 0\n",
        "    for row in lines:\n",
        "        current_tallest = -1\n",
        "        for tree in row:\n",
        "            tree = int(tree)\n",
        "            if tree > current_tallest:\n",
        "                current_tallest = tree\n",
        "            elif tree < current_tallest:\n",
        "                num_visible += 1\n",
        "\n",
        "    return num_visible\n",
        "\n",
        "left = check_num_visible(lines)\n",
        "\n",
        "rows_reversed = [row[::-1] for row in lines]\n",
        "right = check_num_visible(rows_reversed)\n",
        "\n",
        "cols = [list(line) for line in zip(*lines)] # transpose\n",
        "top = check_num_visible(cols)\n",
        "\n",
        "cols_reversed = [col[::-1] for col in cols]\n",
        "bottom = check_num_visible(cols_reversed)\n",
        "\n",
        "rows + cols\n",
        "# rows"
      ]
    },
    {
      "cell_type": "code",
      "execution_count": null,
      "metadata": {
        "colab": {
          "base_uri": "https://localhost:8080/"
        },
        "id": "Na3aH3suBn-l",
        "outputId": "866b4092-8e8f-474b-c8d7-c176bcd62627"
      },
      "outputs": [
        {
          "data": {
            "text/plain": [
              "1845"
            ]
          },
          "execution_count": 71,
          "metadata": {},
          "output_type": "execute_result"
        }
      ],
      "source": [
        "import numpy as np\n",
        "\n",
        "with open('input.txt') as f:\n",
        "    lines = f.readlines()\n",
        "f.close()\n",
        "lines = [x[:-1] for x in lines] # remove '\\n'\n",
        "\n",
        "trees = np.array([[int(tree) for tree in row] for row in lines])\n",
        "n_rows = len(trees)\n",
        "n_cols = len(trees)\n",
        "\n",
        "# make zeros array that tracks if each tree has already been counted as visible\n",
        "tracker = np.zeros([n_rows, n_cols], dtype=bool)\n",
        "\n",
        "# check left\n",
        "for i, row in enumerate(trees):\n",
        "    current_tallest = -1\n",
        "    for j, tree in enumerate(row):\n",
        "        # print(tree)\n",
        "        if tree > current_tallest:\n",
        "            tracker[i][j] = True\n",
        "            current_tallest = tree\n",
        "\n",
        "# check right\n",
        "for i, row in enumerate(trees):\n",
        "    current_tallest = -1\n",
        "    for j, tree in enumerate(reversed(row)):\n",
        "        original_j = len(row) - 1 - j\n",
        "        # print(tree)\n",
        "        if tree > current_tallest:\n",
        "            tracker[i][original_j] = True\n",
        "            current_tallest = tree\n",
        "\n",
        "# # check top\n",
        "for i, col in enumerate(trees.T):\n",
        "    current_tallest = -1\n",
        "    for j, tree in enumerate(col):\n",
        "        if tree > current_tallest:\n",
        "            tracker[j][i] = True\n",
        "            current_tallest = tree\n",
        "\n",
        "# # check bottom\n",
        "for i, row in enumerate(trees.T):\n",
        "    current_tallest = -1\n",
        "    for j, tree in enumerate(reversed(row)):\n",
        "        original_j = len(row) - 1 - j\n",
        "        if tree > current_tallest:\n",
        "            tracker[original_j][i] = True\n",
        "            current_tallest = tree\n",
        "\n",
        "sum(sum(tracker))"
      ]
    },
    {
      "cell_type": "markdown",
      "metadata": {
        "id": "DER8-Bs-SyJq"
      },
      "source": [
        "PART 2"
      ]
    },
    {
      "cell_type": "code",
      "execution_count": null,
      "metadata": {
        "colab": {
          "base_uri": "https://localhost:8080/"
        },
        "id": "H7BBpZozLE1A",
        "outputId": "2e2eea81-3d35-4a1a-fc46-06cff7017746"
      },
      "outputs": [
        {
          "data": {
            "text/plain": [
              "230112"
            ]
          },
          "execution_count": 143,
          "metadata": {},
          "output_type": "execute_result"
        }
      ],
      "source": [
        "import numpy as np\n",
        "\n",
        "with open('input.txt') as f:\n",
        "    lines = f.readlines()\n",
        "f.close()\n",
        "lines = [x[:-1] for x in lines] # remove '\\n'\n",
        "\n",
        "trees = np.array([[int(tree) for tree in row] for row in lines])\n",
        "\n",
        "best_score = 0\n",
        "for i in range(trees.shape[0]):\n",
        "    for j in range(trees.shape[1]):\n",
        "        total_score = 0\n",
        "\n",
        "        tree = trees[i][j]\n",
        "\n",
        "        # score right view\n",
        "        right_score = 1\n",
        "        right_is_viewable = True\n",
        "        look_ahead_idx = 1\n",
        "        while right_is_viewable:\n",
        "            if j+look_ahead_idx < trees.shape[0]-1:\n",
        "                evaluation_tree = trees[i][j+look_ahead_idx]\n",
        "                if tree > evaluation_tree:\n",
        "                    right_score += 1\n",
        "                    look_ahead_idx += 1\n",
        "                else:\n",
        "                    right_is_viewable = False\n",
        "            else:\n",
        "                right_is_viewable = False\n",
        "\n",
        "        # score left view\n",
        "        left_score = 1\n",
        "        left_is_viewable = True\n",
        "        look_ahead_idx = 1\n",
        "        while left_is_viewable:\n",
        "            if j-look_ahead_idx > 0:\n",
        "                evaluation_tree = trees[i][j-look_ahead_idx]\n",
        "                if tree > evaluation_tree:\n",
        "                    left_score += 1\n",
        "                    look_ahead_idx += 1\n",
        "                else:\n",
        "                    left_is_viewable = False\n",
        "            else:\n",
        "                left_is_viewable = False\n",
        "\n",
        "        # score up view\n",
        "        up_score = 1\n",
        "        up_is_viewable = True\n",
        "        look_ahead_idx = 1\n",
        "        while up_is_viewable:\n",
        "            if i-look_ahead_idx > 0:\n",
        "                evaluation_tree = trees[i-look_ahead_idx][j]\n",
        "                if tree > evaluation_tree:\n",
        "                    up_score += 1\n",
        "                    look_ahead_idx += 1\n",
        "                else:\n",
        "                    up_is_viewable = False\n",
        "            else:\n",
        "                up_is_viewable = False\n",
        "\n",
        "        # score down view\n",
        "        down_score = 1\n",
        "        down_is_viewable = True\n",
        "        look_ahead_idx = 1\n",
        "        while down_is_viewable:\n",
        "            if i+look_ahead_idx < trees.shape[0]-1:\n",
        "                evaluation_tree = trees[i+look_ahead_idx][j]\n",
        "                if tree > evaluation_tree:\n",
        "                    down_score += 1\n",
        "                    look_ahead_idx += 1\n",
        "                else:\n",
        "                    down_is_viewable = False\n",
        "            else:\n",
        "                down_is_viewable = False\n",
        "\n",
        "        if (i == 0):\n",
        "            up_score = 0\n",
        "        if (i == trees.shape[0]-1):\n",
        "            down_score = 0\n",
        "        if (j == 0):\n",
        "            left_score = 0\n",
        "        if (j == trees.shape[0]-1):\n",
        "            right_score = 0\n",
        "\n",
        "        total_score = right_score*left_score*up_score*down_score\n",
        "        if total_score > best_score:\n",
        "            best_score = total_score\n",
        "\n",
        "best_score"
      ]
    },
    {
      "cell_type": "markdown",
      "metadata": {
        "id": "CIjo8JJXdXDd"
      },
      "source": [
        "#**Day 9: Rope Bridge**"
      ]
    },
    {
      "cell_type": "markdown",
      "metadata": {
        "id": "HHn2YX46dbWT"
      },
      "source": [
        "PART 1"
      ]
    },
    {
      "cell_type": "code",
      "execution_count": 2,
      "metadata": {
        "id": "3qJVLOb6dCuf"
      },
      "outputs": [],
      "source": [
        "import numpy as np\n",
        "\n",
        "with open('input.txt') as f:\n",
        "    lines = f.readlines()\n",
        "f.close()\n",
        "\n",
        "lines = [x[:-1] for x in lines] # remove '\\n'\n",
        "lines = [line.split(' ') for line in lines] # split direction and num steps\n",
        "lines = [[line[0], int(line[1])] for line in lines]\n",
        "\n",
        "# use x,y coords?\n",
        "direction_to_xy = {'U': np.array([0, 1]), 'D': np.array([0, -1]),\n",
        "                   'R': np.array([1, 0]), 'L': np.array([-1, 0])}\n",
        "\n",
        "H = np.array([0, 0])\n",
        "T = np.array([0, 0])\n",
        "\n",
        "H_trace = [[H[0], H[1]]]\n",
        "T_trace = [[T[0], T[1]]]\n",
        "T_trace_unique = [[T[0], T[1]]]\n",
        "for line in lines[:][:]:\n",
        "    # print('\\n',\"Line: \", line)\n",
        "    for step in range(line[1]):\n",
        "        # print(\"Direction: \", line[0], step+1)\n",
        "        H += direction_to_xy[line[0]]\n",
        "        H_trace.append([H[0],H[1]])\n",
        "\n",
        "        # print(\"H: \", H)\n",
        "        HT_difference = H - T\n",
        "        # print('HT difference: ', HT_difference)\n",
        "\n",
        "        if 2 in abs(HT_difference):\n",
        "            T += np.sign(HT_difference)\n",
        "        elif 0 in HT_difference:\n",
        "            if sum(HT_difference) > 0:\n",
        "                T += HT_difference//2\n",
        "            elif sum(HT_difference) < 0:\n",
        "                T += HT_difference//-2\n",
        "\n",
        "        # print('T: ', T)\n",
        "\n",
        "        T_trace.append([T[0],T[1]])\n",
        "\n",
        "        if [T[0],T[1]] not in T_trace_unique:\n",
        "            T_trace_unique.append([T[0],T[1]])\n",
        "\n",
        "len(T_trace_unique)"
      ]
    },
    {
      "cell_type": "markdown",
      "source": [
        "PART 2"
      ],
      "metadata": {
        "id": "V71X9mMq_XMm"
      }
    },
    {
      "cell_type": "code",
      "execution_count": 102,
      "metadata": {
        "id": "0vkfi6Aeng8f",
        "colab": {
          "base_uri": "https://localhost:8080/"
        },
        "outputId": "bcde4503-1698-4aca-8641-06124118c70c"
      },
      "outputs": [
        {
          "output_type": "execute_result",
          "data": {
            "text/plain": [
              "2566"
            ]
          },
          "metadata": {},
          "execution_count": 102
        }
      ],
      "source": [
        "import numpy as np\n",
        "\n",
        "with open('input.txt') as f:\n",
        "    lines = f.readlines()\n",
        "f.close()\n",
        "\n",
        "lines = [x[:-1] for x in lines] # remove '\\n'\n",
        "lines = [line.split(' ') for line in lines] # split direction and num steps\n",
        "lines = [[line[0], int(line[1])] for line in lines]\n",
        "\n",
        "# use x,y coords?\n",
        "direction_to_xy = {'U': np.array([0, 1]), 'D': np.array([0, -1]),\n",
        "                   'R': np.array([1, 0]), 'L': np.array([-1, 0])}\n",
        "\n",
        "H = np.array([0, 0])\n",
        "Ts = [[0,0]]*9\n",
        "Ts = np.array(Ts)\n",
        "\n",
        "def T_follow(T, HT_difference):\n",
        "    move = [0, 0]\n",
        "    if 2 in abs(HT_difference):\n",
        "        move = np.sign(HT_difference)\n",
        "    elif 0 in HT_difference:\n",
        "        if sum(HT_difference) > 0:\n",
        "            move = HT_difference//2\n",
        "        elif sum(HT_difference) < 0:\n",
        "            move = HT_difference//-2\n",
        "    return move\n",
        "\n",
        "H_trace = []\n",
        "H_trace0 = [H[0], H[1]]\n",
        "H_trace.append(H_trace0)\n",
        "# H_trace = np.array(H_trace)\n",
        "T_trace = []\n",
        "T_trace0 = [[0, 0]]*9\n",
        "T_trace.append(T_trace0)\n",
        "# T_trace = np.array(T_trace)\n",
        "Tlast_trace_unique = []\n",
        "Tlast_trace_unique0 = [Ts[-1][0], Ts[-1][1]]\n",
        "Tlast_trace_unique.append(Tlast_trace_unique0)\n",
        "# T_trace_unique = np.array(T_trace_unique)\n",
        "for line in lines[:][:]:\n",
        "    # print('\\n',\"Line: \", line)\n",
        "    for step in range(line[1]):\n",
        "        # print(\"Direction: \", line[0], step+1)\n",
        "        H += direction_to_xy[line[0]]\n",
        "        H_trace.append([H[0],H[1]])\n",
        "\n",
        "        # do first tail seperately because it follows head\n",
        "        HT_difference = H - Ts[0]\n",
        "        Ts[0] += T_follow(Ts[0],HT_difference)\n",
        "\n",
        "        for i in range(1, len(Ts)): # iterate over tails\n",
        "            # print(\"H: \", H)\n",
        "            HT_difference = Ts[i-1] - Ts[i]\n",
        "            # print('HT difference: ', HT_difference)\n",
        "\n",
        "            Ts[i] += T_follow(Ts[i],HT_difference)\n",
        "\n",
        "            # print('T: ', T)\n",
        "\n",
        "        if [Ts[-1][0], Ts[-1][1]] not in Tlast_trace_unique:\n",
        "            Tlast_trace_unique.append([Ts[-1][0], Ts[-1][1]])\n",
        "\n",
        "        T_trace.append([[T[0], T[1]] for T in Ts])\n",
        "\n",
        "len(Tlast_trace_unique)"
      ]
    },
    {
      "cell_type": "code",
      "source": [
        "import matplotlib.pyplot as plt\n",
        "import matplotlib.animation as animation\n",
        "from IPython.display import HTML\n",
        "\n",
        "Hxs = [line[0] for line in H_trace]\n",
        "Hys = [line[1] for line in H_trace]\n",
        "Txs = [[tail[0] for tail in line] for line in T_trace]\n",
        "Tys = [[tail[1] for tail in line] for line in T_trace]\n",
        "\n",
        "fig, ax = plt.subplots()\n",
        "\n",
        "Hscat = ax.scatter(Hxs[0], Hys[0], c=\"r\", s=2, marker=\"s\")\n",
        "T1scat = ax.scatter(0, 0, c=\"b\", s=1.9, marker=\"s\", alpha=0.9)\n",
        "T2scat = ax.scatter(0, 0, c=\"b\", s=1.8, marker=\"s\", alpha=0.8)\n",
        "T3scat = ax.scatter(0, 0, c=\"b\", s=1.7, marker=\"s\", alpha=0.7)\n",
        "T4scat = ax.scatter(0, 0, c=\"b\", s=1.6, marker=\"s\", alpha=0.6)\n",
        "T5scat = ax.scatter(0, 0, c=\"b\", s=1.5, marker=\"s\", alpha=0.5)\n",
        "T6scat = ax.scatter(0, 0, c=\"b\", s=1.4, marker=\"s\", alpha=0.4)\n",
        "T7scat = ax.scatter(0, 0, c=\"b\", s=1.3, marker=\"s\", alpha=0.3)\n",
        "T8scat = ax.scatter(0, 0, c=\"b\", s=1.2, marker=\"s\", alpha=0.2)\n",
        "T9scat = ax.scatter(0, 0, c=\"b\", s=1.1, marker=\"s\", alpha=0.1)\n",
        "\n",
        "ax.set(xlim=[-300, 60], ylim=[-160, 25])\n",
        "ax.legend()\n",
        "n_frames = len(H_trace)\n",
        "frames = range(0,len(H_trace),1)\n",
        "\n",
        "def update(frame):\n",
        "    # for each frame, update the data stored on each artist.\n",
        "    Hx = Hxs[frame]\n",
        "    Hy = Hys[frame]\n",
        "\n",
        "    T1x = [tx[0] for tx in Txs][frame]\n",
        "    T1y = [ty[0] for ty in Tys][frame]\n",
        "    T2x = [tx[1] for tx in Txs][frame]\n",
        "    T2y = [ty[1] for ty in Tys][frame]\n",
        "    T3x = [tx[2] for tx in Txs][frame]\n",
        "    T3y = [ty[2] for ty in Tys][frame]\n",
        "    T4x = [tx[3] for tx in Txs][frame]\n",
        "    T4y = [ty[3] for ty in Tys][frame]\n",
        "    T5x = [tx[4] for tx in Txs][frame]\n",
        "    T5y = [ty[4] for ty in Tys][frame]\n",
        "    T6x = [tx[5] for tx in Txs][frame]\n",
        "    T6y = [ty[5] for ty in Tys][frame]\n",
        "    T7x = [tx[6] for tx in Txs][frame]\n",
        "    T7y = [ty[6] for ty in Tys][frame]\n",
        "    T8x = [tx[7] for tx in Txs][frame]\n",
        "    T8y = [ty[7] for ty in Tys][frame]\n",
        "    T9x = [tx[8] for tx in Txs][frame]\n",
        "    T9y = [ty[8] for ty in Tys][frame]\n",
        "\n",
        "    # update the H scatter plot:\n",
        "    Hdata = np.stack([Hx, Hy]).T\n",
        "    Hscat.set_offsets(Hdata)\n",
        "\n",
        "    # update the T scatter plots:\n",
        "    T1data = np.stack([T1x, T1y]).T\n",
        "    T1scat.set_offsets(T1data)\n",
        "    T2data = np.stack([T2x, T2y]).T\n",
        "    T2scat.set_offsets(T2data)\n",
        "    T3data = np.stack([T3x, T3y]).T\n",
        "    T3scat.set_offsets(T3data)\n",
        "    T4data = np.stack([T4x, T4y]).T\n",
        "    T4scat.set_offsets(T4data)\n",
        "    T5data = np.stack([T5x, T5y]).T\n",
        "    T5scat.set_offsets(T5data)\n",
        "    T6data = np.stack([T6x, T6y]).T\n",
        "    T6scat.set_offsets(T6data)\n",
        "    T7data = np.stack([T7x, T7y]).T\n",
        "    T7scat.set_offsets(T7data)\n",
        "    T8data = np.stack([T8x, T8y]).T\n",
        "    T8scat.set_offsets(T8data)\n",
        "    T9data = np.stack([T9x, T9y]).T\n",
        "    T9scat.set_offsets(T9data)\n",
        "\n",
        "    if frame % 1000 == 0:\n",
        "        print(frame, n_frames)\n",
        "    return (Hscat, T1scat, T2scat, T3scat, T4scat, T5scat, T6scat, T7scat, T8scat, T9scat)\n",
        "\n",
        "anim = animation.FuncAnimation(fig=fig, func=update, frames=frames, interval=20)\n",
        "HTML(anim.to_html5_video())"
      ],
      "metadata": {
        "id": "9MdmStJbJgWt"
      },
      "execution_count": null,
      "outputs": []
    },
    {
      "cell_type": "markdown",
      "source": [
        "#**DAY 10: Cathode-Ray Tube**"
      ],
      "metadata": {
        "id": "BymyPzlAUZIM"
      }
    },
    {
      "cell_type": "markdown",
      "source": [
        "PART 1"
      ],
      "metadata": {
        "id": "FLIssdIVUd1w"
      }
    },
    {
      "cell_type": "code",
      "source": [
        "# each clock circuit tick called a cycle\n",
        "# CPU register (X) starts with value 1\n",
        "    # 2 instructions:\n",
        "        # (1) addx V (2 cycles to complete) - X register increased by value V\n",
        "        # (2) noop (1 cycle to complete) - no effect\n",
        "\n",
        "# Find the signal strength during the 20th, 60th, 100th, 140th, 180th, and 220th cycles.\n",
        "    # What is the sum of these six signal strengths?\n",
        "\n",
        "# signal strength is register value * current cycle\n",
        "\n",
        "with open('input.txt') as f:\n",
        "    lines = f.readlines()\n",
        "f.close()\n",
        "\n",
        "lines = [x[:-1] for x in lines] # remove '\\n'\n",
        "lines = [line.split(' ') for line in lines] # split direction and num steps\n",
        "lines = [[line[0], int(line[1])] if len(line) > 1 else [line[0], 0] for line in lines] # append 0 to noop\n",
        "lines = [[1, line[1]] if line[0] == 'noop' else [2, line[1]] for line in lines] # convert commands to cycles\n",
        "\n",
        "sum_signal_strengths = 0\n",
        "cycles_of_interest = [20, 60, 100, 140, 180, 220]\n",
        "current_cycle = 0\n",
        "current_X = 1\n",
        "for line in lines:\n",
        "    for i in range(line[0]):\n",
        "        if current_cycle in cycles_of_interest:\n",
        "            sum_signal_strengths += current_cycle * current_X\n",
        "        current_cycle += 1\n",
        "    current_X += line[1]\n",
        "\n",
        "sum_signal_strengths"
      ],
      "metadata": {
        "id": "JgqHw4GfPrl8"
      },
      "execution_count": 145,
      "outputs": []
    },
    {
      "cell_type": "markdown",
      "source": [
        "PART 2"
      ],
      "metadata": {
        "id": "J461DPNSa-i3"
      }
    },
    {
      "cell_type": "code",
      "source": [
        "with open('input.txt') as f:\n",
        "    lines = f.readlines()\n",
        "f.close()\n",
        "\n",
        "lines = [x[:-1] for x in lines] # remove '\\n'\n",
        "lines = [line.split(' ') for line in lines] # split direction and num steps\n",
        "lines = [[line[0], int(line[1])] if len(line) > 1 else [line[0], 0] for line in lines] # append 0 to noop\n",
        "lines = [[1, line[1]] if line[0] == 'noop' else [2, line[1]] for line in lines] # convert commands to cycles\n",
        "\n",
        "def update_sprite_position(current_X):\n",
        "    return [current_X-1, current_X, current_X+1]\n",
        "\n",
        "pixel_values = {0: '.', 1: '#'}\n",
        "\n",
        "CRT = ['.'*40]*6 # 6 rows, cols 40\n",
        "\n",
        "current_cycle = 0\n",
        "current_X = 1\n",
        "sprite_position = update_sprite_position(current_X)\n",
        "current_row = 0\n",
        "for line in lines:\n",
        "    for _ in range(line[0]):\n",
        "        # draw\n",
        "\n",
        "\n",
        "\n",
        "        if current_cycle in sprite_position:\n",
        "            CRT[current_row] = CRT[current_row][:current_cycle] + '#' + CRT[current_row][current_cycle+1:]\n",
        "\n",
        "        current_cycle += 1\n",
        "        if current_cycle % 40 == 0:\n",
        "            current_row += 1\n",
        "            current_cycle -= 40\n",
        "\n",
        "    current_X += line[1]\n",
        "    sprite_position = update_sprite_position(current_X)\n",
        "\n",
        "for row in CRT:\n",
        "    print(row)"
      ],
      "metadata": {
        "colab": {
          "base_uri": "https://localhost:8080/"
        },
        "id": "8D2A5kVva6r8",
        "outputId": "cde04450-d6b8-4b6f-c4a2-bce3c1d09450"
      },
      "execution_count": 208,
      "outputs": [
        {
          "output_type": "stream",
          "name": "stdout",
          "text": [
            "###...##..#..#.####..##..#....#..#..##..\n",
            "#..#.#..#.#..#.#....#..#.#....#..#.#..#.\n",
            "#..#.#....####.###..#....#....#..#.#....\n",
            "###..#.##.#..#.#....#.##.#....#..#.#.##.\n",
            "#....#..#.#..#.#....#..#.#....#..#.#..#.\n",
            "#.....###.#..#.#.....###.####..##...###.\n"
          ]
        }
      ]
    },
    {
      "cell_type": "markdown",
      "source": [],
      "metadata": {
        "id": "Re7Ls9ykkT0N"
      }
    },
    {
      "cell_type": "code",
      "source": [],
      "metadata": {
        "id": "XeloVzokgpo6"
      },
      "execution_count": null,
      "outputs": []
    }
  ],
  "metadata": {
    "colab": {
      "provenance": [],
      "authorship_tag": "ABX9TyOf79LiJ9d/BFnQ8zIj+wI8",
      "include_colab_link": true
    },
    "kernelspec": {
      "display_name": "Python 3",
      "name": "python3"
    },
    "language_info": {
      "name": "python"
    }
  },
  "nbformat": 4,
  "nbformat_minor": 0
}