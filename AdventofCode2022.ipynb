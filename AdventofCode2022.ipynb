{
  "nbformat": 4,
  "nbformat_minor": 0,
  "metadata": {
    "colab": {
      "provenance": [],
      "authorship_tag": "ABX9TyOIPDIWPRJiUMqxB4NpdrCY",
      "include_colab_link": true
    },
    "kernelspec": {
      "name": "python3",
      "display_name": "Python 3"
    },
    "language_info": {
      "name": "python"
    }
  },
  "cells": [
    {
      "cell_type": "markdown",
      "metadata": {
        "id": "view-in-github",
        "colab_type": "text"
      },
      "source": [
        "<a href=\"https://colab.research.google.com/github/bnunpy/AdventOfCode2022/blob/main/AdventofCode2022.ipynb\" target=\"_parent\"><img src=\"https://colab.research.google.com/assets/colab-badge.svg\" alt=\"Open In Colab\"/></a>"
      ]
    },
    {
      "cell_type": "markdown",
      "source": [
        "# **DAY 1: Calorie Counting**"
      ],
      "metadata": {
        "id": "H1g7MfSboKsh"
      }
    },
    {
      "cell_type": "markdown",
      "source": [
        "PART 1"
      ],
      "metadata": {
        "id": "kHU31roBmz1h"
      }
    },
    {
      "cell_type": "code",
      "execution_count": null,
      "metadata": {
        "colab": {
          "base_uri": "https://localhost:8080/"
        },
        "id": "3JkKZVlcigtk",
        "outputId": "ae024c40-4c3c-4d9a-e280-c6417c49de23"
      },
      "outputs": [
        {
          "output_type": "execute_result",
          "data": {
            "text/plain": [
              "65912"
            ]
          },
          "metadata": {},
          "execution_count": 34
        }
      ],
      "source": [
        "f = open(\"input.txt\", \"r\", newline='\\n')\n",
        "\n",
        "most_calories = 0\n",
        "current_calories = 0\n",
        "for snack in f:\n",
        "    if snack != \"\\n\":\n",
        "        current_calories += int(snack)\n",
        "    if snack == \"\\n\":\n",
        "        if int(current_calories) > int(most_calories):\n",
        "            most_calories = current_calories\n",
        "            current_calories = 0\n",
        "\n",
        "f.close()\n",
        "\n",
        "\n",
        "most_calories"
      ]
    },
    {
      "cell_type": "markdown",
      "source": [
        "PART 2"
      ],
      "metadata": {
        "id": "KKuiRHGWm4Zs"
      }
    },
    {
      "cell_type": "code",
      "source": [
        "f = open(\"input.txt\", \"r\", newline='\\n')\n",
        "\n",
        "calories_list = []\n",
        "current_calories = 0\n",
        "for snack in f:\n",
        "    if snack != \"\\n\":\n",
        "        current_calories += int(snack)\n",
        "    if snack == \"\\n\":\n",
        "        calories_list.append(current_calories)\n",
        "        current_calories = 0\n",
        "\n",
        "f.close()\n",
        "\n",
        "\n",
        "calories_list.sort(reverse=True)\n",
        "sum(calories_list[0:3])"
      ],
      "metadata": {
        "colab": {
          "base_uri": "https://localhost:8080/"
        },
        "id": "WhF01GPHjnew",
        "outputId": "2655c41c-ed33-4728-88b8-f60f44f95ab3"
      },
      "execution_count": null,
      "outputs": [
        {
          "output_type": "execute_result",
          "data": {
            "text/plain": [
              "195625"
            ]
          },
          "metadata": {},
          "execution_count": 39
        }
      ]
    },
    {
      "cell_type": "markdown",
      "source": [
        "#**DAY 2: Rock Paper Scissors**"
      ],
      "metadata": {
        "id": "XI53gLdHoRwH"
      }
    },
    {
      "cell_type": "markdown",
      "source": [
        "PART 1"
      ],
      "metadata": {
        "id": "Rv9kmsgKtfYm"
      }
    },
    {
      "cell_type": "code",
      "source": [
        "shape_mapping = {\"A\": \"X\", \"B\": \"Y\", \"C\": \"Z\"}\n",
        "strategy_guide = {\"A\": \"Y\", \"B\": \"Z\", \"C\": \"X\"}\n",
        "\n",
        "response_score = {\"X\": 1, \"Y\": 2, \"Z\": 3}\n",
        "outcome_score = {\"lose\": 0, \"draw\": 3, \"win\": 6}\n",
        "\n",
        "\n",
        "\n",
        "f = open(\"input.txt\", \"r\", newline='\\n')\n",
        "\n",
        "score = 0\n",
        "for round in f:\n",
        "    opponent = round[0]\n",
        "    response = round[2]\n",
        "    # print(opponent, response)\n",
        "\n",
        "    score += response_score[response]\n",
        "\n",
        "    if response == strategy_guide[opponent]:\n",
        "        score += outcome_score[\"win\"]\n",
        "        # print(\"win\")\n",
        "    elif response == shape_mapping[opponent]:\n",
        "        score += outcome_score[\"draw\"]\n",
        "        # print(\"draw\")\n",
        "    else:\n",
        "        score += outcome_score[\"lose\"]\n",
        "        # print(\"lose\")\n",
        "\n",
        "\n",
        "f.close()\n",
        "\n",
        "score"
      ],
      "metadata": {
        "colab": {
          "base_uri": "https://localhost:8080/"
        },
        "id": "tpWTYFNdnxoR",
        "outputId": "23c22fc4-032c-4958-9c5a-64cea51421a5"
      },
      "execution_count": null,
      "outputs": [
        {
          "output_type": "execute_result",
          "data": {
            "text/plain": [
              "8890"
            ]
          },
          "metadata": {},
          "execution_count": 48
        }
      ]
    },
    {
      "cell_type": "markdown",
      "source": [
        "PART 2"
      ],
      "metadata": {
        "id": "j-TyUMTntgrU"
      }
    },
    {
      "cell_type": "code",
      "source": [
        "\n",
        "\n",
        "outcome_scoring = {\"lose\": 0, \"draw\": 3, \"win\": 6}\n",
        "strategy_guide = {\"X\": \"lose\", \"Y\": \"draw\", \"Z\": \"win\"}\n",
        "\n",
        "win_guide = {\"A\": \"paper\", \"B\": \"scissors\", \"C\": \"rock\"}\n",
        "lose_guide = {\"A\": \"scissors\", \"B\": \"rock\", \"C\": \"paper\"}\n",
        "draw_guide = {\"A\": \"rock\", \"B\": \"paper\", \"C\": \"scissors\"}\n",
        "response_scoring = {\"rock\": 1, \"paper\": 2, \"scissors\": 3}\n",
        "\n",
        "guide_map = {\"win\": win_guide, \"lose\": lose_guide, \"draw\": draw_guide}\n",
        "\n",
        "\n",
        "f = open(\"input.txt\", \"r\", newline='\\n')\n",
        "\n",
        "score = 0\n",
        "for round in f:\n",
        "    opponent = round[0]\n",
        "    response = round[2]\n",
        "    # print(opponent, response)\n",
        "\n",
        "\n",
        "\n",
        "    outcome_score = outcome_scoring[strategy_guide[response]]\n",
        "    score += outcome_score\n",
        "    # print(outcome_score)\n",
        "\n",
        "    current_guide = guide_map[strategy_guide[response]]\n",
        "    response = current_guide[opponent]\n",
        "    response_score = response_scoring[response]\n",
        "    score += response_score\n",
        "    # print(response_score)\n",
        "\n",
        "\n",
        "\n",
        "\n",
        "f.close()\n",
        "\n",
        "score"
      ],
      "metadata": {
        "colab": {
          "base_uri": "https://localhost:8080/"
        },
        "id": "_jKU_lMppgjK",
        "outputId": "811a365c-98a2-4e4a-f433-c88de49ba898"
      },
      "execution_count": null,
      "outputs": [
        {
          "output_type": "execute_result",
          "data": {
            "text/plain": [
              "10238"
            ]
          },
          "metadata": {},
          "execution_count": 55
        }
      ]
    },
    {
      "cell_type": "markdown",
      "source": [
        "#**DAY 3: Rucksack Reorganization**"
      ],
      "metadata": {
        "id": "ZX-hI94lyqme"
      }
    },
    {
      "cell_type": "markdown",
      "source": [
        "PART 1"
      ],
      "metadata": {
        "id": "h3g9qY5AywBp"
      }
    },
    {
      "cell_type": "code",
      "source": [
        "# item priorities\n",
        "# A-Z 65-90, a-z 97-122\n",
        "\n",
        "with open('input.txt') as f:\n",
        "    lines = f.readlines()\n",
        "f.close()\n",
        "\n",
        "total_priority = 0\n",
        "for i_rucksack in range(len(lines)):\n",
        "    rucksack = lines[i_rucksack]\n",
        "    compartment_size = len(rucksack)//2\n",
        "    compartment1 = rucksack[:compartment_size]\n",
        "    compartment2 = rucksack[compartment_size:]\n",
        "    # print(rucksack)\n",
        "    # print(compartment1)\n",
        "    # print(compartment2)\n",
        "\n",
        "    item_in_both_compartments = ''\n",
        "\n",
        "    i = 0\n",
        "    j = 0\n",
        "    while not item_in_both_compartments:\n",
        "        # iterate through compartment 1\n",
        "        item1 = compartment1[i]\n",
        "\n",
        "        # iterate through compartment 2\n",
        "        item2 = compartment2[j]\n",
        "\n",
        "        if item1 == item2:\n",
        "            item_in_both_compartments = item1\n",
        "\n",
        "        j += 1\n",
        "        if j == compartment_size:\n",
        "            j = 0\n",
        "            i += 1\n",
        "\n",
        "    # count item priority\n",
        "    # print(item_in_both_compartments);\n",
        "    if item_in_both_compartments.isupper():\n",
        "        priority = ord(item_in_both_compartments)-38\n",
        "    else:\n",
        "        priority = ord(item_in_both_compartments)-96\n",
        "    total_priority += priority\n",
        "\n",
        "    total_priority"
      ],
      "metadata": {
        "colab": {
          "base_uri": "https://localhost:8080/"
        },
        "id": "mmYRqfV1uVoW",
        "outputId": "21dc87c8-3475-4a31-e4f5-2c053a6dc7f3"
      },
      "execution_count": null,
      "outputs": [
        {
          "output_type": "execute_result",
          "data": {
            "text/plain": [
              "7785"
            ]
          },
          "metadata": {},
          "execution_count": 113
        }
      ]
    },
    {
      "cell_type": "markdown",
      "source": [
        "PART 2"
      ],
      "metadata": {
        "id": "IUZsCvDb_S71"
      }
    },
    {
      "cell_type": "code",
      "source": [
        "with open('input.txt') as f:\n",
        "    lines = f.readlines()\n",
        "f.close()\n",
        "\n",
        "total_priority = 0\n",
        "for i_rucksack in range(0,len(lines),3):\n",
        "\n",
        "    rucksacks = lines[i_rucksack:i_rucksack+3]\n",
        "\n",
        "    item_in_common = ''\n",
        "\n",
        "    i = 0\n",
        "    j = 0\n",
        "    k = 0\n",
        "    while not item_in_common:\n",
        "        # iterate through rucksack 1\n",
        "        item1 = rucksacks[0][i]\n",
        "\n",
        "        # iterate through rucksack 2\n",
        "        item2 = rucksacks[1][j]\n",
        "\n",
        "        # iterate through rucksack 3\n",
        "        item3 = rucksacks[2][k]\n",
        "\n",
        "        if item1 == item2 == item3:\n",
        "            item_in_common = item1\n",
        "\n",
        "        k += 1\n",
        "        if k == len(rucksacks[2]):\n",
        "            k = 0\n",
        "            j += 1\n",
        "\n",
        "        if j == len(rucksacks[1]):\n",
        "            j = 0\n",
        "            i += 1\n",
        "\n",
        "    if item_in_common.isupper():\n",
        "        priority = ord(item_in_common)-38\n",
        "    else:\n",
        "        priority = ord(item_in_common)-96\n",
        "    total_priority += priority\n",
        "\n",
        "total_priority"
      ],
      "metadata": {
        "colab": {
          "base_uri": "https://localhost:8080/"
        },
        "id": "xFG_XvcA8abL",
        "outputId": "08e21f76-b86f-4f60-85c7-974fa49e8978"
      },
      "execution_count": null,
      "outputs": [
        {
          "output_type": "execute_result",
          "data": {
            "text/plain": [
              "2633"
            ]
          },
          "metadata": {},
          "execution_count": 117
        }
      ]
    },
    {
      "cell_type": "markdown",
      "source": [],
      "metadata": {
        "id": "wcghlWUiCqNs"
      }
    },
    {
      "cell_type": "markdown",
      "source": [
        "#**DAY 4: Camp Cleanup**"
      ],
      "metadata": {
        "id": "c4qN90KqCr3t"
      }
    },
    {
      "cell_type": "markdown",
      "source": [
        "PART 1"
      ],
      "metadata": {
        "id": "mFuYtRnjCxtx"
      }
    },
    {
      "cell_type": "code",
      "source": [
        "with open('input.txt') as f:\n",
        "    lines = f.readlines()\n",
        "f.close()\n",
        "\n",
        "overlap_count = 0\n",
        "for line in lines:\n",
        "    pair = line.split(',')\n",
        "    elf1 = pair[0].split('-')\n",
        "    elf2 = pair[1].split('-')\n",
        "\n",
        "    elf1 = [int(x) for x in elf1]\n",
        "    elf2 = [int(x) for x in elf2]\n",
        "\n",
        "    # if elf1 fits in elf2\n",
        "    if (elf1[0] >= elf2[0]) and (elf1[1] <= elf2[1]):\n",
        "        overlap_count += 1\n",
        "    # if elf2 fits in elf1\n",
        "    elif (elf1[0] <= elf2[0]) and (elf1[1] >= elf2[1]):\n",
        "        overlap_count += 1\n",
        "\n",
        "overlap_count"
      ],
      "metadata": {
        "colab": {
          "base_uri": "https://localhost:8080/"
        },
        "id": "xd8PgeYRCvcj",
        "outputId": "9f40633c-fe85-4bd7-9e0a-616860835447"
      },
      "execution_count": null,
      "outputs": [
        {
          "output_type": "execute_result",
          "data": {
            "text/plain": [
              "542"
            ]
          },
          "metadata": {},
          "execution_count": 125
        }
      ]
    },
    {
      "cell_type": "markdown",
      "source": [
        "PART 2"
      ],
      "metadata": {
        "id": "LmugxKlPFjKH"
      }
    },
    {
      "cell_type": "code",
      "source": [
        "with open('input.txt') as f:\n",
        "    lines = f.readlines()\n",
        "f.close()\n",
        "\n",
        "overlap_count = 0\n",
        "for line in lines:\n",
        "    pair = line.split(',')\n",
        "    elf1 = pair[0].split('-')\n",
        "    elf2 = pair[1].split('-')\n",
        "\n",
        "    elf1 = [int(x) for x in elf1]\n",
        "    elf2 = [int(x) for x in elf2]\n",
        "\n",
        "    # if elf1 overlaps with elf2\n",
        "    if (elf1[0] in range(elf2[0], elf2[1]+1)) or (elf1[1] in range(elf2[0], elf2[1]+1)):\n",
        "        overlap_count += 1\n",
        "    # if elf2 overlaps with elf1\n",
        "    elif (elf2[0] in range(elf1[0], elf1[1]+1)) or (elf2[1] in range(elf1[0], elf1[1]+1)):\n",
        "        overlap_count += 1\n",
        "\n",
        "overlap_count"
      ],
      "metadata": {
        "colab": {
          "base_uri": "https://localhost:8080/"
        },
        "id": "y9k01lt5DzRb",
        "outputId": "935454f5-58cc-4faf-d96b-7dc20b171b82"
      },
      "execution_count": null,
      "outputs": [
        {
          "output_type": "execute_result",
          "data": {
            "text/plain": [
              "900"
            ]
          },
          "metadata": {},
          "execution_count": 135
        }
      ]
    },
    {
      "cell_type": "markdown",
      "source": [
        "#**DAY 5: Supply Stacks**"
      ],
      "metadata": {
        "id": "teuF81kVck-y"
      }
    },
    {
      "cell_type": "markdown",
      "source": [
        "PART 1"
      ],
      "metadata": {
        "id": "6_UhN49acpht"
      }
    },
    {
      "cell_type": "code",
      "source": [
        "import re\n",
        "\n",
        "with open('input.txt') as f:\n",
        "    lines = f.readlines()\n",
        "f.close()\n",
        "\n",
        "initial_arrangement = lines[:8]\n",
        "\n",
        "# convert initial arrangement to list of lists\n",
        "initial_arrangement_lists = []\n",
        "for i in range(len(initial_arrangement)):\n",
        "    line = lines[i].strip('\\n')\n",
        "\n",
        "    bin_n = 0\n",
        "    initial_arrangement_list = []\n",
        "    for j in range(0,len(line),4):\n",
        "        current_item = line[j:j+4]\n",
        "        initial_arrangement_list.append(current_item.strip())\n",
        "        bin_n += 1\n",
        "\n",
        "    initial_arrangement_lists.append(initial_arrangement_list)\n",
        "\n",
        "# transpose lists\n",
        "initial_arrangement_lists_T = []\n",
        "for row in zip(*initial_arrangement_lists):\n",
        "    initial_arrangement_lists_T.append(row)\n",
        "\n",
        "# remove empty elements and reverse\n",
        "for i in range(len(initial_arrangement_lists_T)):\n",
        "    initial_arrangement_lists_T[i] = list(initial_arrangement_lists_T[i])\n",
        "    initial_arrangement_lists_T[i] = [crate for crate in initial_arrangement_lists_T[i] if crate != '']\n",
        "    initial_arrangement_lists_T[i] = initial_arrangement_lists_T[i][::-1]\n",
        "\n",
        "# parse instructions\n",
        "instructions = lines[10:]\n",
        "num_instructions = len(instructions)\n",
        "move_from_to = []\n",
        "\n",
        "pattern = r'\\d+'  # This pattern matches integers\n",
        "for i in range(num_instructions):\n",
        "    move_from_to_col_counter = 0\n",
        "    line = instructions[i]\n",
        "    matches = re.findall(pattern, line)\n",
        "    matches = [int(x) for x in matches] # make ints\n",
        "    matches[1] -= 1 # zero index\n",
        "    matches[2] -= 1 # zero index\n",
        "    move_from_to.append(matches)\n",
        "\n",
        "# perform rearrangement procedure\n",
        "for instruction in move_from_to:\n",
        "    for i in range(instruction[0]):\n",
        "        element_to_move = initial_arrangement_lists_T[instruction[1]][-1]\n",
        "        initial_arrangement_lists_T[instruction[1]].pop(-1)\n",
        "        initial_arrangement_lists_T[instruction[2]].append(element_to_move)\n",
        "\n",
        "# for stack in initial_arrangement_lists_T:\n",
        "top_crates = [x[-1] for x in initial_arrangement_lists_T]\n",
        "top_crates"
      ],
      "metadata": {
        "colab": {
          "base_uri": "https://localhost:8080/"
        },
        "id": "ACP_oeIjcosR",
        "outputId": "7525ae19-69e4-44b3-e8b7-3b41877d3efe"
      },
      "execution_count": null,
      "outputs": [
        {
          "output_type": "execute_result",
          "data": {
            "text/plain": [
              "['[G]', '[F]', '[T]', '[N]', '[R]', '[B]', '[Z]', '[P]', '[F]']"
            ]
          },
          "metadata": {},
          "execution_count": 29
        }
      ]
    },
    {
      "cell_type": "markdown",
      "source": [
        "PART 2"
      ],
      "metadata": {
        "id": "kOy022C3w9RX"
      }
    },
    {
      "cell_type": "code",
      "source": [
        "import re\n",
        "\n",
        "with open('input.txt') as f:\n",
        "    lines = f.readlines()\n",
        "f.close()\n",
        "\n",
        "initial_arrangement = lines[:8]\n",
        "\n",
        "# convert initial arrangement to list of lists\n",
        "initial_arrangement_lists = []\n",
        "for i in range(len(initial_arrangement)):\n",
        "    line = lines[i].strip('\\n')\n",
        "\n",
        "    bin_n = 0\n",
        "    initial_arrangement_list = []\n",
        "    for j in range(0,len(line),4):\n",
        "        current_item = line[j:j+4]\n",
        "        initial_arrangement_list.append(current_item.strip())\n",
        "        bin_n += 1\n",
        "\n",
        "    initial_arrangement_lists.append(initial_arrangement_list)\n",
        "\n",
        "# transpose lists\n",
        "initial_arrangement_lists_T = []\n",
        "for row in zip(*initial_arrangement_lists):\n",
        "    initial_arrangement_lists_T.append(row)\n",
        "\n",
        "# remove empty elements and reverse\n",
        "for i in range(len(initial_arrangement_lists_T)):\n",
        "    initial_arrangement_lists_T[i] = list(initial_arrangement_lists_T[i])\n",
        "    initial_arrangement_lists_T[i] = [crate for crate in initial_arrangement_lists_T[i] if crate != '']\n",
        "    initial_arrangement_lists_T[i] = initial_arrangement_lists_T[i][::-1]\n",
        "\n",
        "# parse instructions\n",
        "instructions = lines[10:]\n",
        "num_instructions = len(instructions)\n",
        "move_from_to = []\n",
        "\n",
        "pattern = r'\\d+'  # This pattern matches integers\n",
        "for i in range(num_instructions):\n",
        "    move_from_to_col_counter = 0\n",
        "    line = instructions[i]\n",
        "    matches = re.findall(pattern, line)\n",
        "    matches = [int(x) for x in matches] # make ints\n",
        "    matches[1] -= 1 # zero index\n",
        "    matches[2] -= 1 # zero index\n",
        "    move_from_to.append(matches)\n",
        "\n",
        "# perform rearrangement procedure\n",
        "for instruction in move_from_to:\n",
        "    # print(instruction)\n",
        "    elements_to_move = initial_arrangement_lists_T[instruction[1]][-instruction[0]:]\n",
        "    [initial_arrangement_lists_T[instruction[2]].append(x) for x in elements_to_move]\n",
        "    del initial_arrangement_lists_T[instruction[1]][-instruction[0]:]\n",
        "\n",
        "top_crates = [x[-1] for x in initial_arrangement_lists_T]\n",
        "top_crates"
      ],
      "metadata": {
        "id": "1aE0YBIzw-dK",
        "colab": {
          "base_uri": "https://localhost:8080/"
        },
        "outputId": "cd610b46-d373-402b-b263-bdbe6d7f54b6"
      },
      "execution_count": null,
      "outputs": [
        {
          "output_type": "execute_result",
          "data": {
            "text/plain": [
              "['[V]', '[R]', '[Q]', '[W]', '[P]', '[D]', '[S]', '[G]', '[P]']"
            ]
          },
          "metadata": {},
          "execution_count": 51
        }
      ]
    },
    {
      "cell_type": "markdown",
      "source": [
        "#**DAY 6: Tuning Trouble**"
      ],
      "metadata": {
        "id": "AVPDCUNMrEgn"
      }
    },
    {
      "cell_type": "markdown",
      "source": [
        "PART 1"
      ],
      "metadata": {
        "id": "V1JoI3xOrKCS"
      }
    },
    {
      "cell_type": "code",
      "source": [
        "with open('input.txt') as f:\n",
        "    line = f.readline()\n",
        "f.close()\n",
        "\n",
        "buffer_size = 4\n",
        "start = 0\n",
        "end = start + buffer_size\n",
        "is_marker = False\n",
        "while not is_marker:\n",
        "    unique_chars_in_contents = []\n",
        "    contents = line[start:end]\n",
        "    # print(contents)\n",
        "    for ch in contents:\n",
        "        if ch not in unique_chars_in_contents:\n",
        "            unique_chars_in_contents.append(ch)\n",
        "    # print(unique_chars_in_contents)\n",
        "    if len(unique_chars_in_contents) == buffer_size:\n",
        "        is_marker = True\n",
        "\n",
        "    start += 1\n",
        "    end = start + buffer_size\n",
        "\n",
        "end-1"
      ],
      "metadata": {
        "colab": {
          "base_uri": "https://localhost:8080/"
        },
        "id": "KGPwacwVrJEm",
        "outputId": "af32fa7f-4372-4ec2-9140-5f54de8ba2b6"
      },
      "execution_count": null,
      "outputs": [
        {
          "output_type": "execute_result",
          "data": {
            "text/plain": [
              "1757"
            ]
          },
          "metadata": {},
          "execution_count": 63
        }
      ]
    },
    {
      "cell_type": "markdown",
      "source": [
        "PART 2"
      ],
      "metadata": {
        "id": "h18hhB_KyHc9"
      }
    },
    {
      "cell_type": "code",
      "source": [
        "with open('input.txt') as f:\n",
        "    line = f.readline()\n",
        "f.close()\n",
        "\n",
        "buffer_size = 14\n",
        "start = 0\n",
        "end = start + buffer_size\n",
        "is_marker = False\n",
        "while not is_marker:\n",
        "    unique_chars_in_contents = []\n",
        "    contents = line[start:end]\n",
        "    # print(contents)\n",
        "    for ch in contents:\n",
        "        if ch not in unique_chars_in_contents:\n",
        "            unique_chars_in_contents.append(ch)\n",
        "    # print(unique_chars_in_contents)\n",
        "    if len(unique_chars_in_contents) == buffer_size:\n",
        "        is_marker = True\n",
        "\n",
        "    start += 1\n",
        "    end = start + buffer_size\n",
        "\n",
        "end-1"
      ],
      "metadata": {
        "colab": {
          "base_uri": "https://localhost:8080/"
        },
        "id": "8yDqKLjHvsNV",
        "outputId": "4308e949-f133-46cf-fe8d-79e348e1c6a3"
      },
      "execution_count": null,
      "outputs": [
        {
          "output_type": "execute_result",
          "data": {
            "text/plain": [
              "2950"
            ]
          },
          "metadata": {},
          "execution_count": 65
        }
      ]
    },
    {
      "cell_type": "markdown",
      "source": [
        "#**DAY 7: No Space Left On Device**"
      ],
      "metadata": {
        "id": "eP0ghWJUyxvZ"
      }
    },
    {
      "cell_type": "markdown",
      "source": [
        "PART 1"
      ],
      "metadata": {
        "id": "uISI7OqFy27M"
      }
    },
    {
      "cell_type": "code",
      "source": [
        "with open('input.txt') as f:\n",
        "    lines = f.readlines()\n",
        "f.close()\n",
        "\n"
      ],
      "metadata": {
        "id": "OxNB6AoyxORs"
      },
      "execution_count": null,
      "outputs": []
    }
  ]
}