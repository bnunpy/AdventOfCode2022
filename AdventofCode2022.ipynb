{
  "nbformat": 4,
  "nbformat_minor": 0,
  "metadata": {
    "colab": {
      "provenance": [],
      "authorship_tag": "ABX9TyPrmPMaqDrs+ZKNwSs5wRnX",
      "include_colab_link": true
    },
    "kernelspec": {
      "name": "python3",
      "display_name": "Python 3"
    },
    "language_info": {
      "name": "python"
    }
  },
  "cells": [
    {
      "cell_type": "markdown",
      "metadata": {
        "id": "view-in-github",
        "colab_type": "text"
      },
      "source": [
        "<a href=\"https://colab.research.google.com/github/bnunpy/AdventOfCode2022/blob/main/AdventofCode2022.ipynb\" target=\"_parent\"><img src=\"https://colab.research.google.com/assets/colab-badge.svg\" alt=\"Open In Colab\"/></a>"
      ]
    },
    {
      "cell_type": "markdown",
      "source": [
        "# **DAY 1: Calorie Counting**"
      ],
      "metadata": {
        "id": "H1g7MfSboKsh"
      }
    },
    {
      "cell_type": "markdown",
      "source": [
        "PART 1"
      ],
      "metadata": {
        "id": "kHU31roBmz1h"
      }
    },
    {
      "cell_type": "code",
      "execution_count": null,
      "metadata": {
        "colab": {
          "base_uri": "https://localhost:8080/"
        },
        "id": "3JkKZVlcigtk",
        "outputId": "ae024c40-4c3c-4d9a-e280-c6417c49de23"
      },
      "outputs": [
        {
          "output_type": "execute_result",
          "data": {
            "text/plain": [
              "65912"
            ]
          },
          "metadata": {},
          "execution_count": 34
        }
      ],
      "source": [
        "f = open(\"input.txt\", \"r\", newline='\\n')\n",
        "\n",
        "most_calories = 0\n",
        "current_calories = 0\n",
        "for snack in f:\n",
        "    if snack != \"\\n\":\n",
        "        current_calories += int(snack)\n",
        "    if snack == \"\\n\":\n",
        "        if int(current_calories) > int(most_calories):\n",
        "            most_calories = current_calories\n",
        "            current_calories = 0\n",
        "\n",
        "f.close()\n",
        "\n",
        "\n",
        "most_calories"
      ]
    },
    {
      "cell_type": "markdown",
      "source": [
        "PART 2"
      ],
      "metadata": {
        "id": "KKuiRHGWm4Zs"
      }
    },
    {
      "cell_type": "code",
      "source": [
        "f = open(\"input.txt\", \"r\", newline='\\n')\n",
        "\n",
        "calories_list = []\n",
        "current_calories = 0\n",
        "for snack in f:\n",
        "    if snack != \"\\n\":\n",
        "        current_calories += int(snack)\n",
        "    if snack == \"\\n\":\n",
        "        calories_list.append(current_calories)\n",
        "        current_calories = 0\n",
        "\n",
        "f.close()\n",
        "\n",
        "\n",
        "calories_list.sort(reverse=True)\n",
        "sum(calories_list[0:3])"
      ],
      "metadata": {
        "colab": {
          "base_uri": "https://localhost:8080/"
        },
        "id": "WhF01GPHjnew",
        "outputId": "2655c41c-ed33-4728-88b8-f60f44f95ab3"
      },
      "execution_count": null,
      "outputs": [
        {
          "output_type": "execute_result",
          "data": {
            "text/plain": [
              "195625"
            ]
          },
          "metadata": {},
          "execution_count": 39
        }
      ]
    },
    {
      "cell_type": "markdown",
      "source": [
        "#**DAY 2: Rock Paper Scissors**"
      ],
      "metadata": {
        "id": "XI53gLdHoRwH"
      }
    },
    {
      "cell_type": "markdown",
      "source": [
        "PART 1"
      ],
      "metadata": {
        "id": "Rv9kmsgKtfYm"
      }
    },
    {
      "cell_type": "code",
      "source": [
        "shape_mapping = {\"A\": \"X\", \"B\": \"Y\", \"C\": \"Z\"}\n",
        "strategy_guide = {\"A\": \"Y\", \"B\": \"Z\", \"C\": \"X\"}\n",
        "\n",
        "response_score = {\"X\": 1, \"Y\": 2, \"Z\": 3}\n",
        "outcome_score = {\"lose\": 0, \"draw\": 3, \"win\": 6}\n",
        "\n",
        "\n",
        "\n",
        "f = open(\"input.txt\", \"r\", newline='\\n')\n",
        "\n",
        "score = 0\n",
        "for round in f:\n",
        "    opponent = round[0]\n",
        "    response = round[2]\n",
        "    # print(opponent, response)\n",
        "\n",
        "    score += response_score[response]\n",
        "\n",
        "    if response == strategy_guide[opponent]:\n",
        "        score += outcome_score[\"win\"]\n",
        "        # print(\"win\")\n",
        "    elif response == shape_mapping[opponent]:\n",
        "        score += outcome_score[\"draw\"]\n",
        "        # print(\"draw\")\n",
        "    else:\n",
        "        score += outcome_score[\"lose\"]\n",
        "        # print(\"lose\")\n",
        "\n",
        "\n",
        "f.close()\n",
        "\n",
        "score"
      ],
      "metadata": {
        "colab": {
          "base_uri": "https://localhost:8080/"
        },
        "id": "tpWTYFNdnxoR",
        "outputId": "23c22fc4-032c-4958-9c5a-64cea51421a5"
      },
      "execution_count": null,
      "outputs": [
        {
          "output_type": "execute_result",
          "data": {
            "text/plain": [
              "8890"
            ]
          },
          "metadata": {},
          "execution_count": 48
        }
      ]
    },
    {
      "cell_type": "markdown",
      "source": [
        "PART 2"
      ],
      "metadata": {
        "id": "j-TyUMTntgrU"
      }
    },
    {
      "cell_type": "code",
      "source": [
        "\n",
        "\n",
        "outcome_scoring = {\"lose\": 0, \"draw\": 3, \"win\": 6}\n",
        "strategy_guide = {\"X\": \"lose\", \"Y\": \"draw\", \"Z\": \"win\"}\n",
        "\n",
        "win_guide = {\"A\": \"paper\", \"B\": \"scissors\", \"C\": \"rock\"}\n",
        "lose_guide = {\"A\": \"scissors\", \"B\": \"rock\", \"C\": \"paper\"}\n",
        "draw_guide = {\"A\": \"rock\", \"B\": \"paper\", \"C\": \"scissors\"}\n",
        "response_scoring = {\"rock\": 1, \"paper\": 2, \"scissors\": 3}\n",
        "\n",
        "guide_map = {\"win\": win_guide, \"lose\": lose_guide, \"draw\": draw_guide}\n",
        "\n",
        "\n",
        "f = open(\"input.txt\", \"r\", newline='\\n')\n",
        "\n",
        "score = 0\n",
        "for round in f:\n",
        "    opponent = round[0]\n",
        "    response = round[2]\n",
        "    # print(opponent, response)\n",
        "\n",
        "\n",
        "\n",
        "    outcome_score = outcome_scoring[strategy_guide[response]]\n",
        "    score += outcome_score\n",
        "    # print(outcome_score)\n",
        "\n",
        "    current_guide = guide_map[strategy_guide[response]]\n",
        "    response = current_guide[opponent]\n",
        "    response_score = response_scoring[response]\n",
        "    score += response_score\n",
        "    # print(response_score)\n",
        "\n",
        "\n",
        "\n",
        "\n",
        "f.close()\n",
        "\n",
        "score"
      ],
      "metadata": {
        "colab": {
          "base_uri": "https://localhost:8080/"
        },
        "id": "_jKU_lMppgjK",
        "outputId": "811a365c-98a2-4e4a-f433-c88de49ba898"
      },
      "execution_count": null,
      "outputs": [
        {
          "output_type": "execute_result",
          "data": {
            "text/plain": [
              "10238"
            ]
          },
          "metadata": {},
          "execution_count": 55
        }
      ]
    },
    {
      "cell_type": "markdown",
      "source": [
        "#**DAY 3: Rucksack Reorganization**"
      ],
      "metadata": {
        "id": "ZX-hI94lyqme"
      }
    },
    {
      "cell_type": "markdown",
      "source": [
        "PART 1"
      ],
      "metadata": {
        "id": "h3g9qY5AywBp"
      }
    },
    {
      "cell_type": "code",
      "source": [
        "# item priorities\n",
        "# A-Z 65-90, a-z 97-122\n",
        "\n",
        "with open('input.txt') as f:\n",
        "    lines = f.readlines()\n",
        "f.close()\n",
        "\n",
        "total_priority = 0\n",
        "for i_rucksack in range(len(lines)):\n",
        "    rucksack = lines[i_rucksack]\n",
        "    compartment_size = len(rucksack)//2\n",
        "    compartment1 = rucksack[:compartment_size]\n",
        "    compartment2 = rucksack[compartment_size:]\n",
        "    # print(rucksack)\n",
        "    # print(compartment1)\n",
        "    # print(compartment2)\n",
        "\n",
        "    item_in_both_compartments = ''\n",
        "\n",
        "    i = 0\n",
        "    j = 0\n",
        "    while not item_in_both_compartments:\n",
        "        # iterate through compartment 1\n",
        "        item1 = compartment1[i]\n",
        "\n",
        "        # iterate through compartment 2\n",
        "        item2 = compartment2[j]\n",
        "\n",
        "        if item1 == item2:\n",
        "            item_in_both_compartments = item1\n",
        "\n",
        "        j += 1\n",
        "        if j == compartment_size:\n",
        "            j = 0\n",
        "            i += 1\n",
        "\n",
        "    # count item priority\n",
        "    # print(item_in_both_compartments);\n",
        "    if item_in_both_compartments.isupper():\n",
        "        priority = ord(item_in_both_compartments)-38\n",
        "    else:\n",
        "        priority = ord(item_in_both_compartments)-96\n",
        "    total_priority += priority\n",
        "\n",
        "    total_priority"
      ],
      "metadata": {
        "colab": {
          "base_uri": "https://localhost:8080/"
        },
        "id": "mmYRqfV1uVoW",
        "outputId": "21dc87c8-3475-4a31-e4f5-2c053a6dc7f3"
      },
      "execution_count": null,
      "outputs": [
        {
          "output_type": "execute_result",
          "data": {
            "text/plain": [
              "7785"
            ]
          },
          "metadata": {},
          "execution_count": 113
        }
      ]
    },
    {
      "cell_type": "markdown",
      "source": [
        "PART 2"
      ],
      "metadata": {
        "id": "IUZsCvDb_S71"
      }
    },
    {
      "cell_type": "code",
      "source": [
        "with open('input.txt') as f:\n",
        "    lines = f.readlines()\n",
        "f.close()\n",
        "\n",
        "total_priority = 0\n",
        "for i_rucksack in range(0,len(lines),3):\n",
        "\n",
        "    rucksacks = lines[i_rucksack:i_rucksack+3]\n",
        "\n",
        "    item_in_common = ''\n",
        "\n",
        "    i = 0\n",
        "    j = 0\n",
        "    k = 0\n",
        "    while not item_in_common:\n",
        "        # iterate through rucksack 1\n",
        "        item1 = rucksacks[0][i]\n",
        "\n",
        "        # iterate through rucksack 2\n",
        "        item2 = rucksacks[1][j]\n",
        "\n",
        "        # iterate through rucksack 3\n",
        "        item3 = rucksacks[2][k]\n",
        "\n",
        "        if item1 == item2 == item3:\n",
        "            item_in_common = item1\n",
        "\n",
        "        k += 1\n",
        "        if k == len(rucksacks[2]):\n",
        "            k = 0\n",
        "            j += 1\n",
        "\n",
        "        if j == len(rucksacks[1]):\n",
        "            j = 0\n",
        "            i += 1\n",
        "\n",
        "    if item_in_common.isupper():\n",
        "        priority = ord(item_in_common)-38\n",
        "    else:\n",
        "        priority = ord(item_in_common)-96\n",
        "    total_priority += priority\n",
        "\n",
        "total_priority"
      ],
      "metadata": {
        "colab": {
          "base_uri": "https://localhost:8080/"
        },
        "id": "xFG_XvcA8abL",
        "outputId": "08e21f76-b86f-4f60-85c7-974fa49e8978"
      },
      "execution_count": null,
      "outputs": [
        {
          "output_type": "execute_result",
          "data": {
            "text/plain": [
              "2633"
            ]
          },
          "metadata": {},
          "execution_count": 117
        }
      ]
    },
    {
      "cell_type": "markdown",
      "source": [],
      "metadata": {
        "id": "wcghlWUiCqNs"
      }
    },
    {
      "cell_type": "markdown",
      "source": [
        "#**DAY 4: Camp Cleanup**"
      ],
      "metadata": {
        "id": "c4qN90KqCr3t"
      }
    },
    {
      "cell_type": "markdown",
      "source": [
        "PART 1"
      ],
      "metadata": {
        "id": "mFuYtRnjCxtx"
      }
    },
    {
      "cell_type": "code",
      "source": [
        "with open('input.txt') as f:\n",
        "    lines = f.readlines()\n",
        "f.close()\n",
        "\n",
        "overlap_count = 0\n",
        "for line in lines:\n",
        "    pair = line.split(',')\n",
        "    elf1 = pair[0].split('-')\n",
        "    elf2 = pair[1].split('-')\n",
        "\n",
        "    elf1 = [int(x) for x in elf1]\n",
        "    elf2 = [int(x) for x in elf2]\n",
        "\n",
        "    # if elf1 fits in elf2\n",
        "    if (elf1[0] >= elf2[0]) and (elf1[1] <= elf2[1]):\n",
        "        overlap_count += 1\n",
        "    # if elf2 fits in elf1\n",
        "    elif (elf1[0] <= elf2[0]) and (elf1[1] >= elf2[1]):\n",
        "        overlap_count += 1\n",
        "\n",
        "overlap_count"
      ],
      "metadata": {
        "colab": {
          "base_uri": "https://localhost:8080/"
        },
        "id": "xd8PgeYRCvcj",
        "outputId": "9f40633c-fe85-4bd7-9e0a-616860835447"
      },
      "execution_count": null,
      "outputs": [
        {
          "output_type": "execute_result",
          "data": {
            "text/plain": [
              "542"
            ]
          },
          "metadata": {},
          "execution_count": 125
        }
      ]
    },
    {
      "cell_type": "markdown",
      "source": [
        "PART 2"
      ],
      "metadata": {
        "id": "LmugxKlPFjKH"
      }
    },
    {
      "cell_type": "code",
      "source": [
        "with open('input.txt') as f:\n",
        "    lines = f.readlines()\n",
        "f.close()\n",
        "\n",
        "overlap_count = 0\n",
        "for line in lines:\n",
        "    pair = line.split(',')\n",
        "    elf1 = pair[0].split('-')\n",
        "    elf2 = pair[1].split('-')\n",
        "\n",
        "    elf1 = [int(x) for x in elf1]\n",
        "    elf2 = [int(x) for x in elf2]\n",
        "\n",
        "    # if elf1 overlaps with elf2\n",
        "    if (elf1[0] in range(elf2[0], elf2[1]+1)) or (elf1[1] in range(elf2[0], elf2[1]+1)):\n",
        "        overlap_count += 1\n",
        "    # if elf2 overlaps with elf1\n",
        "    elif (elf2[0] in range(elf1[0], elf1[1]+1)) or (elf2[1] in range(elf1[0], elf1[1]+1)):\n",
        "        overlap_count += 1\n",
        "\n",
        "overlap_count"
      ],
      "metadata": {
        "colab": {
          "base_uri": "https://localhost:8080/"
        },
        "id": "y9k01lt5DzRb",
        "outputId": "935454f5-58cc-4faf-d96b-7dc20b171b82"
      },
      "execution_count": null,
      "outputs": [
        {
          "output_type": "execute_result",
          "data": {
            "text/plain": [
              "900"
            ]
          },
          "metadata": {},
          "execution_count": 135
        }
      ]
    },
    {
      "cell_type": "markdown",
      "source": [
        "#**DAY 5: Supply Stacks**"
      ],
      "metadata": {
        "id": "teuF81kVck-y"
      }
    },
    {
      "cell_type": "markdown",
      "source": [
        "PART 1"
      ],
      "metadata": {
        "id": "6_UhN49acpht"
      }
    },
    {
      "cell_type": "code",
      "source": [
        "import re\n",
        "\n",
        "with open('input.txt') as f:\n",
        "    lines = f.readlines()\n",
        "f.close()\n",
        "\n",
        "initial_arrangement = lines[:8]\n",
        "\n",
        "# convert initial arrangement to list of lists\n",
        "initial_arrangement_lists = []\n",
        "for i in range(len(initial_arrangement)):\n",
        "    line = lines[i].strip('\\n')\n",
        "\n",
        "    bin_n = 0\n",
        "    initial_arrangement_list = []\n",
        "    for j in range(0,len(line),4):\n",
        "        current_item = line[j:j+4]\n",
        "        initial_arrangement_list.append(current_item.strip())\n",
        "        bin_n += 1\n",
        "\n",
        "    initial_arrangement_lists.append(initial_arrangement_list)\n",
        "\n",
        "# transpose lists\n",
        "initial_arrangement_lists_T = []\n",
        "for row in zip(*initial_arrangement_lists):\n",
        "    initial_arrangement_lists_T.append(row)\n",
        "\n",
        "# remove empty elements and reverse\n",
        "for i in range(len(initial_arrangement_lists_T)):\n",
        "    initial_arrangement_lists_T[i] = list(initial_arrangement_lists_T[i])\n",
        "    initial_arrangement_lists_T[i] = [crate for crate in initial_arrangement_lists_T[i] if crate != '']\n",
        "    initial_arrangement_lists_T[i] = initial_arrangement_lists_T[i][::-1]\n",
        "\n",
        "# parse instructions\n",
        "instructions = lines[10:]\n",
        "num_instructions = len(instructions)\n",
        "move_from_to = []\n",
        "\n",
        "pattern = r'\\d+'  # This pattern matches integers\n",
        "for i in range(num_instructions):\n",
        "    move_from_to_col_counter = 0\n",
        "    line = instructions[i]\n",
        "    matches = re.findall(pattern, line)\n",
        "    matches = [int(x) for x in matches] # make ints\n",
        "    matches[1] -= 1 # zero index\n",
        "    matches[2] -= 1 # zero index\n",
        "    move_from_to.append(matches)\n",
        "\n",
        "# perform rearrangement procedure\n",
        "for instruction in move_from_to:\n",
        "    for i in range(instruction[0]):\n",
        "        element_to_move = initial_arrangement_lists_T[instruction[1]][-1]\n",
        "        initial_arrangement_lists_T[instruction[1]].pop(-1)\n",
        "        initial_arrangement_lists_T[instruction[2]].append(element_to_move)\n",
        "\n",
        "# for stack in initial_arrangement_lists_T:\n",
        "top_crates = [x[-1] for x in initial_arrangement_lists_T]\n",
        "top_crates"
      ],
      "metadata": {
        "colab": {
          "base_uri": "https://localhost:8080/"
        },
        "id": "ACP_oeIjcosR",
        "outputId": "7525ae19-69e4-44b3-e8b7-3b41877d3efe"
      },
      "execution_count": null,
      "outputs": [
        {
          "output_type": "execute_result",
          "data": {
            "text/plain": [
              "['[G]', '[F]', '[T]', '[N]', '[R]', '[B]', '[Z]', '[P]', '[F]']"
            ]
          },
          "metadata": {},
          "execution_count": 29
        }
      ]
    },
    {
      "cell_type": "markdown",
      "source": [
        "PART 2"
      ],
      "metadata": {
        "id": "kOy022C3w9RX"
      }
    },
    {
      "cell_type": "code",
      "source": [
        "import re\n",
        "\n",
        "with open('input.txt') as f:\n",
        "    lines = f.readlines()\n",
        "f.close()\n",
        "\n",
        "initial_arrangement = lines[:8]\n",
        "\n",
        "# convert initial arrangement to list of lists\n",
        "initial_arrangement_lists = []\n",
        "for i in range(len(initial_arrangement)):\n",
        "    line = lines[i].strip('\\n')\n",
        "\n",
        "    bin_n = 0\n",
        "    initial_arrangement_list = []\n",
        "    for j in range(0,len(line),4):\n",
        "        current_item = line[j:j+4]\n",
        "        initial_arrangement_list.append(current_item.strip())\n",
        "        bin_n += 1\n",
        "\n",
        "    initial_arrangement_lists.append(initial_arrangement_list)\n",
        "\n",
        "# transpose lists\n",
        "initial_arrangement_lists_T = []\n",
        "for row in zip(*initial_arrangement_lists):\n",
        "    initial_arrangement_lists_T.append(row)\n",
        "\n",
        "# remove empty elements and reverse\n",
        "for i in range(len(initial_arrangement_lists_T)):\n",
        "    initial_arrangement_lists_T[i] = list(initial_arrangement_lists_T[i])\n",
        "    initial_arrangement_lists_T[i] = [crate for crate in initial_arrangement_lists_T[i] if crate != '']\n",
        "    initial_arrangement_lists_T[i] = initial_arrangement_lists_T[i][::-1]\n",
        "\n",
        "# parse instructions\n",
        "instructions = lines[10:]\n",
        "num_instructions = len(instructions)\n",
        "move_from_to = []\n",
        "\n",
        "pattern = r'\\d+'  # This pattern matches integers\n",
        "for i in range(num_instructions):\n",
        "    move_from_to_col_counter = 0\n",
        "    line = instructions[i]\n",
        "    matches = re.findall(pattern, line)\n",
        "    matches = [int(x) for x in matches] # make ints\n",
        "    matches[1] -= 1 # zero index\n",
        "    matches[2] -= 1 # zero index\n",
        "    move_from_to.append(matches)\n",
        "\n",
        "# perform rearrangement procedure\n",
        "for instruction in move_from_to:\n",
        "    # print(instruction)\n",
        "    elements_to_move = initial_arrangement_lists_T[instruction[1]][-instruction[0]:]\n",
        "    [initial_arrangement_lists_T[instruction[2]].append(x) for x in elements_to_move]\n",
        "    del initial_arrangement_lists_T[instruction[1]][-instruction[0]:]\n",
        "\n",
        "top_crates = [x[-1] for x in initial_arrangement_lists_T]\n",
        "top_crates"
      ],
      "metadata": {
        "id": "1aE0YBIzw-dK",
        "colab": {
          "base_uri": "https://localhost:8080/"
        },
        "outputId": "cd610b46-d373-402b-b263-bdbe6d7f54b6"
      },
      "execution_count": null,
      "outputs": [
        {
          "output_type": "execute_result",
          "data": {
            "text/plain": [
              "['[V]', '[R]', '[Q]', '[W]', '[P]', '[D]', '[S]', '[G]', '[P]']"
            ]
          },
          "metadata": {},
          "execution_count": 51
        }
      ]
    },
    {
      "cell_type": "markdown",
      "source": [
        "#**DAY 6: Tuning Trouble**"
      ],
      "metadata": {
        "id": "AVPDCUNMrEgn"
      }
    },
    {
      "cell_type": "markdown",
      "source": [
        "PART 1"
      ],
      "metadata": {
        "id": "V1JoI3xOrKCS"
      }
    },
    {
      "cell_type": "code",
      "source": [
        "with open('input.txt') as f:\n",
        "    line = f.readline()\n",
        "f.close()\n",
        "\n",
        "buffer_size = 4\n",
        "start = 0\n",
        "end = start + buffer_size\n",
        "is_marker = False\n",
        "while not is_marker:\n",
        "    unique_chars_in_contents = []\n",
        "    contents = line[start:end]\n",
        "    # print(contents)\n",
        "    for ch in contents:\n",
        "        if ch not in unique_chars_in_contents:\n",
        "            unique_chars_in_contents.append(ch)\n",
        "    # print(unique_chars_in_contents)\n",
        "    if len(unique_chars_in_contents) == buffer_size:\n",
        "        is_marker = True\n",
        "\n",
        "    start += 1\n",
        "    end = start + buffer_size\n",
        "\n",
        "end-1"
      ],
      "metadata": {
        "colab": {
          "base_uri": "https://localhost:8080/"
        },
        "id": "KGPwacwVrJEm",
        "outputId": "af32fa7f-4372-4ec2-9140-5f54de8ba2b6"
      },
      "execution_count": null,
      "outputs": [
        {
          "output_type": "execute_result",
          "data": {
            "text/plain": [
              "1757"
            ]
          },
          "metadata": {},
          "execution_count": 63
        }
      ]
    },
    {
      "cell_type": "markdown",
      "source": [
        "PART 2"
      ],
      "metadata": {
        "id": "h18hhB_KyHc9"
      }
    },
    {
      "cell_type": "code",
      "source": [
        "with open('input.txt') as f:\n",
        "    line = f.readline()\n",
        "f.close()\n",
        "\n",
        "buffer_size = 14\n",
        "start = 0\n",
        "end = start + buffer_size\n",
        "is_marker = False\n",
        "while not is_marker:\n",
        "    unique_chars_in_contents = []\n",
        "    contents = line[start:end]\n",
        "    # print(contents)\n",
        "    for ch in contents:\n",
        "        if ch not in unique_chars_in_contents:\n",
        "            unique_chars_in_contents.append(ch)\n",
        "    # print(unique_chars_in_contents)\n",
        "    if len(unique_chars_in_contents) == buffer_size:\n",
        "        is_marker = True\n",
        "\n",
        "    start += 1\n",
        "    end = start + buffer_size\n",
        "\n",
        "end-1"
      ],
      "metadata": {
        "colab": {
          "base_uri": "https://localhost:8080/"
        },
        "id": "8yDqKLjHvsNV",
        "outputId": "4308e949-f133-46cf-fe8d-79e348e1c6a3"
      },
      "execution_count": null,
      "outputs": [
        {
          "output_type": "execute_result",
          "data": {
            "text/plain": [
              "2950"
            ]
          },
          "metadata": {},
          "execution_count": 65
        }
      ]
    },
    {
      "cell_type": "markdown",
      "source": [
        "#**DAY 7: No Space Left On Device**"
      ],
      "metadata": {
        "id": "eP0ghWJUyxvZ"
      }
    },
    {
      "cell_type": "markdown",
      "source": [
        "PART 1"
      ],
      "metadata": {
        "id": "uISI7OqFy27M"
      }
    },
    {
      "cell_type": "code",
      "source": [
        "# / outermost dir\n",
        "# $ commands\n",
        "# cd change directory, x in a level, .. out a level, \\ to outermost dir\n",
        "# ls list dir contents, if dir xyz: dir inside dir called xyz\n"
      ],
      "metadata": {
        "id": "SB4ib9T20nzZ"
      },
      "execution_count": null,
      "outputs": []
    },
    {
      "cell_type": "code",
      "source": [
        "with open('input.txt') as f:\n",
        "    lines = f.readlines()\n",
        "f.close()\n",
        "\n",
        "# set up dictionary with key names of dirs\n",
        "directory_dict = {'/': None}\n",
        "\n",
        "counter = 0\n",
        "for line in lines[1:]:\n",
        "    # print(counter)\n",
        "    line = line.split(' ') # str to space delimited list\n",
        "    line[-1] = line[-1][:-1] # remove '\\n'\n",
        "\n",
        "    if line[0] == '$': # check if line is a command\n",
        "        if line[1] == 'cd': # check if command is cd\n",
        "            if line[2] != '..':\n",
        "                current_directory = line[2]\n",
        "                # directory_dict[current_directory] = None\n",
        "\n",
        "        if line[1] == 'ls': # check if command is ls\n",
        "            continue\n",
        "    elif line[0] == 'dir':\n",
        "        directory_dict[current_directory] = line[0]\n",
        "\n",
        "    counter+=1\n",
        "    # print(line)\n",
        "\n",
        "#"
      ],
      "metadata": {
        "id": "OxNB6AoyxORs"
      },
      "execution_count": 95,
      "outputs": []
    },
    {
      "cell_type": "code",
      "source": [
        "lines[:20]"
      ],
      "metadata": {
        "colab": {
          "base_uri": "https://localhost:8080/"
        },
        "id": "UZbHNFJc0Udg",
        "outputId": "ffbb704a-7c7a-4013-fcef-6dcd150bd9cb"
      },
      "execution_count": 87,
      "outputs": [
        {
          "output_type": "execute_result",
          "data": {
            "text/plain": [
              "['$ cd /\\n',\n",
              " '$ ls\\n',\n",
              " 'dir dcvzbqf\\n',\n",
              " '23804 gsdpmrq.bsz\\n',\n",
              " '24936 nfngbl.mcn\\n',\n",
              " '178747 plw.frm\\n',\n",
              " 'dir qdtw\\n',\n",
              " 'dir qmfvph\\n',\n",
              " '$ cd dcvzbqf\\n',\n",
              " '$ ls\\n',\n",
              " 'dir gfvl\\n',\n",
              " '$ cd gfvl\\n',\n",
              " '$ ls\\n',\n",
              " '104564 dnbmm.bgc\\n',\n",
              " '$ cd ..\\n',\n",
              " '$ cd ..\\n',\n",
              " '$ cd qdtw\\n',\n",
              " '$ ls\\n',\n",
              " 'dir fsj\\n',\n",
              " 'dir jwfbvmds\\n']"
            ]
          },
          "metadata": {},
          "execution_count": 87
        }
      ]
    },
    {
      "cell_type": "code",
      "source": [
        "directory_dict"
      ],
      "metadata": {
        "id": "mpyVdQ-n0VCW"
      },
      "execution_count": null,
      "outputs": []
    },
    {
      "cell_type": "markdown",
      "source": [
        "#**DAY 8: Treetop Tree House**"
      ],
      "metadata": {
        "id": "YuAUdiv_BPOy"
      }
    },
    {
      "cell_type": "markdown",
      "source": [
        "PART 1"
      ],
      "metadata": {
        "id": "6A8DLF0mBZAJ"
      }
    },
    {
      "cell_type": "code",
      "source": [
        "import numpy\n",
        "\n",
        "with open('input.txt') as f:\n",
        "    lines = f.readlines()\n",
        "f.close()\n",
        "\n",
        "lines = [x[:-1] for x in lines] # remove '\\n'\n",
        "\n",
        "def check_num_visible(lines) -> int:\n",
        "    num_visible = 0\n",
        "    for row in lines:\n",
        "        current_tallest = -1\n",
        "        for tree in row:\n",
        "            tree = int(tree)\n",
        "            if tree > current_tallest:\n",
        "                current_tallest = tree\n",
        "            elif tree < current_tallest:\n",
        "                num_visible += 1\n",
        "\n",
        "    return num_visible\n",
        "\n",
        "left = check_num_visible(lines)\n",
        "\n",
        "rows_reversed = [row[::-1] for row in lines]\n",
        "right = check_num_visible(rows_reversed)\n",
        "\n",
        "cols = [list(line) for line in zip(*lines)] # transpose\n",
        "top = check_num_visible(cols)\n",
        "\n",
        "cols_reversed = [col[::-1] for col in cols]\n",
        "bottom = check_num_visible(cols_reversed)\n",
        "\n",
        "rows + cols\n",
        "# rows"
      ],
      "metadata": {
        "colab": {
          "base_uri": "https://localhost:8080/"
        },
        "id": "MYPGSBN3BXT8",
        "outputId": "f1b310c0-3051-4e98-e86e-1a1b5f5545f1"
      },
      "execution_count": 120,
      "outputs": [
        {
          "output_type": "execute_result",
          "data": {
            "text/plain": [
              "15640"
            ]
          },
          "metadata": {},
          "execution_count": 120
        }
      ]
    },
    {
      "cell_type": "code",
      "source": [
        "import numpy as np\n",
        "\n",
        "with open('input.txt') as f:\n",
        "    lines = f.readlines()\n",
        "f.close()\n",
        "lines = [x[:-1] for x in lines] # remove '\\n'\n",
        "\n",
        "trees = np.array([[int(tree) for tree in row] for row in lines])\n",
        "n_rows = len(trees)\n",
        "n_cols = len(trees)\n",
        "\n",
        "# make zeros array that tracks if each tree has already been counted as visible\n",
        "tracker = np.zeros([n_rows, n_cols], dtype=bool)\n",
        "\n",
        "# check left\n",
        "for i, row in enumerate(trees):\n",
        "    current_tallest = -1\n",
        "    for j, tree in enumerate(row):\n",
        "        # print(tree)\n",
        "        if tree > current_tallest:\n",
        "            tracker[i][j] = True\n",
        "            current_tallest = tree\n",
        "\n",
        "# check right\n",
        "for i, row in enumerate(trees):\n",
        "    current_tallest = -1\n",
        "    for j, tree in enumerate(reversed(row)):\n",
        "        original_j = len(row) - 1 - j\n",
        "        # print(tree)\n",
        "        if tree > current_tallest:\n",
        "            tracker[i][original_j] = True\n",
        "            current_tallest = tree\n",
        "\n",
        "# # check top\n",
        "for i, col in enumerate(trees.T):\n",
        "    current_tallest = -1\n",
        "    for j, tree in enumerate(col):\n",
        "        if tree > current_tallest:\n",
        "            tracker[j][i] = True\n",
        "            current_tallest = tree\n",
        "\n",
        "# # check bottom\n",
        "for i, row in enumerate(trees.T):\n",
        "    current_tallest = -1\n",
        "    for j, tree in enumerate(reversed(row)):\n",
        "        original_j = len(row) - 1 - j\n",
        "        if tree > current_tallest:\n",
        "            tracker[original_j][i] = True\n",
        "            current_tallest = tree\n",
        "\n",
        "sum(sum(tracker))"
      ],
      "metadata": {
        "colab": {
          "base_uri": "https://localhost:8080/"
        },
        "id": "Na3aH3suBn-l",
        "outputId": "866b4092-8e8f-474b-c8d7-c176bcd62627"
      },
      "execution_count": 71,
      "outputs": [
        {
          "output_type": "execute_result",
          "data": {
            "text/plain": [
              "1845"
            ]
          },
          "metadata": {},
          "execution_count": 71
        }
      ]
    },
    {
      "cell_type": "markdown",
      "source": [
        "PART 2"
      ],
      "metadata": {
        "id": "DER8-Bs-SyJq"
      }
    },
    {
      "cell_type": "code",
      "source": [
        "import numpy as np\n",
        "\n",
        "with open('input.txt') as f:\n",
        "    lines = f.readlines()\n",
        "f.close()\n",
        "lines = [x[:-1] for x in lines] # remove '\\n'\n",
        "\n",
        "trees = np.array([[int(tree) for tree in row] for row in lines])\n",
        "\n",
        "best_score = 0\n",
        "for i in range(trees.shape[0]):\n",
        "    for j in range(trees.shape[1]):\n",
        "        total_score = 0\n",
        "\n",
        "        tree = trees[i][j]\n",
        "\n",
        "        # score right view\n",
        "        right_score = 1\n",
        "        right_is_viewable = True\n",
        "        look_ahead_idx = 1\n",
        "        while right_is_viewable:\n",
        "            if j+look_ahead_idx < trees.shape[0]-1:\n",
        "                evaluation_tree = trees[i][j+look_ahead_idx]\n",
        "                if tree > evaluation_tree:\n",
        "                    right_score += 1\n",
        "                    look_ahead_idx += 1\n",
        "                else:\n",
        "                    right_is_viewable = False\n",
        "            else:\n",
        "                right_is_viewable = False\n",
        "\n",
        "        # score left view\n",
        "        left_score = 1\n",
        "        left_is_viewable = True\n",
        "        look_ahead_idx = 1\n",
        "        while left_is_viewable:\n",
        "            if j-look_ahead_idx > 0:\n",
        "                evaluation_tree = trees[i][j-look_ahead_idx]\n",
        "                if tree > evaluation_tree:\n",
        "                    left_score += 1\n",
        "                    look_ahead_idx += 1\n",
        "                else:\n",
        "                    left_is_viewable = False\n",
        "            else:\n",
        "                left_is_viewable = False\n",
        "\n",
        "        # score up view\n",
        "        up_score = 1\n",
        "        up_is_viewable = True\n",
        "        look_ahead_idx = 1\n",
        "        while up_is_viewable:\n",
        "            if i-look_ahead_idx > 0:\n",
        "                evaluation_tree = trees[i-look_ahead_idx][j]\n",
        "                if tree > evaluation_tree:\n",
        "                    up_score += 1\n",
        "                    look_ahead_idx += 1\n",
        "                else:\n",
        "                    up_is_viewable = False\n",
        "            else:\n",
        "                up_is_viewable = False\n",
        "\n",
        "        # score down view\n",
        "        down_score = 1\n",
        "        down_is_viewable = True\n",
        "        look_ahead_idx = 1\n",
        "        while down_is_viewable:\n",
        "            if i+look_ahead_idx < trees.shape[0]-1:\n",
        "                evaluation_tree = trees[i+look_ahead_idx][j]\n",
        "                if tree > evaluation_tree:\n",
        "                    down_score += 1\n",
        "                    look_ahead_idx += 1\n",
        "                else:\n",
        "                    down_is_viewable = False\n",
        "            else:\n",
        "                down_is_viewable = False\n",
        "\n",
        "        if (i == 0):\n",
        "            up_score = 0\n",
        "        if (i == trees.shape[0]-1):\n",
        "            down_score = 0\n",
        "        if (j == 0):\n",
        "            left_score = 0\n",
        "        if (j == trees.shape[0]-1):\n",
        "            right_score = 0\n",
        "\n",
        "        total_score = right_score*left_score*up_score*down_score\n",
        "        if total_score > best_score:\n",
        "            best_score = total_score\n",
        "\n",
        "best_score"
      ],
      "metadata": {
        "colab": {
          "base_uri": "https://localhost:8080/"
        },
        "id": "H7BBpZozLE1A",
        "outputId": "2e2eea81-3d35-4a1a-fc46-06cff7017746"
      },
      "execution_count": 143,
      "outputs": [
        {
          "output_type": "execute_result",
          "data": {
            "text/plain": [
              "230112"
            ]
          },
          "metadata": {},
          "execution_count": 143
        }
      ]
    },
    {
      "cell_type": "code",
      "source": [],
      "metadata": {
        "id": "3qJVLOb6dCuf"
      },
      "execution_count": null,
      "outputs": []
    }
  ]
}